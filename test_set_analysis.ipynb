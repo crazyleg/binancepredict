{
 "cells": [
  {
   "cell_type": "code",
   "execution_count": 3,
   "metadata": {},
   "outputs": [],
   "source": [
    "from typing import overload\n",
    "import torch.optim as optim\n",
    "import torch.nn as nn\n",
    "import torch.nn.functional as F\n",
    "import torch\n",
    "import torchvision\n",
    "from tqdm.auto import tqdm\n",
    "from dataprep.dataset_binance import BinanceCoinDataset\n",
    "import torchvision.transforms as transforms\n",
    "import pandas as pd\n",
    "\n",
    "\n",
    "\n",
    "import numpy as np\n",
    "from ml.models.BSM import BSM4\n",
    "import neptune.new as neptune\n",
    "from sklearn.linear_model import LinearRegression\n",
    "from scipy.stats import pearsonr\n",
    "import seaborn as sns\n",
    "\n",
    "def stable_sigmoid(x):\n",
    "    sig = np.where(x < 0, np.exp(x)/(1 + np.exp(x)), 1/(1 + np.exp(-x)))\n",
    "    return sig\n",
    "    \n",
    "C = [\n",
    "    \"DOGEUSDT\",\n",
    "    \"AVAXUSDT\",\n",
    "    \"SOLUSDT\",\n",
    "    \"SHIBUSDT\",\n",
    "    \"EURUSDT\",\n",
    "    \"GBPUSDT\",\n",
    "    \"ETCETH\",\n",
    "    \"ETCBTC\",\n",
    "    \"MKRUSDT\",\n",
    "    \"MKRBTC\",\n",
    "    \"IOTAUSDT\",\n",
    "    \"ADAUSDT\",\n",
    "    \"XLMUSDT\",\n",
    "    \"TRXUSDT\",\n",
    "    \"XMRUSDT\",\n",
    "    \"EOSUSDT\",\n",
    "    \"DOGEGBP\",\n",
    "    \"BTCEUR\",\n",
    "    \"BTCGBP\",\n",
    "    \"BTCUSDT\",\n",
    "]"
   ]
  },
  {
   "cell_type": "code",
   "execution_count": 4,
   "metadata": {},
   "outputs": [
    {
     "name": "stdout",
     "output_type": "stream",
     "text": [
      "t\n"
     ]
    }
   ],
   "source": [
    "device = torch.device('cuda')     \n",
    "val_set = BinanceCoinDataset(test=(True, 0.98), window_size=512, currencies=C)"
   ]
  },
  {
   "cell_type": "code",
   "execution_count": 5,
   "metadata": {},
   "outputs": [],
   "source": [
    "n_features = val_set.data.shape[1]\n",
    "net = BSM4(n_features=n_features, n_outputs=len(val_set.currencies))\n",
    "\n",
    "net.load_state_dict(torch.load('ml/models/BSM4.pth'))\n",
    "net.cuda(device)\n",
    "net.eval()\n",
    "\n",
    "testloader = torch.utils.data.DataLoader(val_set, batch_size=512,\n",
    "                                          shuffle=False, num_workers=1)"
   ]
  },
  {
   "cell_type": "code",
   "execution_count": 6,
   "metadata": {},
   "outputs": [
    {
     "data": {
      "application/vnd.jupyter.widget-view+json": {
       "model_id": "0c11721bf6b24284aa6c64a081934ccc",
       "version_major": 2,
       "version_minor": 0
      },
      "text/plain": [
       "0it [00:00, ?it/s]"
      ]
     },
     "metadata": {},
     "output_type": "display_data"
    }
   ],
   "source": [
    "criterion = nn.L1Loss()\n",
    "y_test = []\n",
    "y_hat_test  = []\n",
    "losses_test  = []\n",
    "losses_test_lr = []\n",
    "\n",
    "net.eval()\n",
    "\n",
    "with torch.no_grad():\n",
    "    for i, data in tqdm(enumerate(testloader, 0)):\n",
    "\n",
    "        inputs, labels  = data\n",
    "        inputs, labels = inputs.to(device), labels.to(device)\n",
    "        outputs = net(inputs)\n",
    "        \n",
    "        outputs = (labels!=-1).detach()*outputs\n",
    "        labels = (labels!=-1).detach()*labels\n",
    "        loss = criterion(outputs, labels)\n",
    "\n",
    "        y_test.append(labels.cpu().detach())\n",
    "        y_hat_test.append(outputs.cpu().detach())\n",
    "        losses_test.append(loss.cpu())\n",
    "\n",
    "        "
   ]
  },
  {
   "cell_type": "code",
   "execution_count": 7,
   "metadata": {},
   "outputs": [],
   "source": [
    "y_test = np.vstack(y_test)\n",
    "y_hat_test = np.vstack(y_hat_test)\n",
    "losses = np.vstack(losses_test)"
   ]
  },
  {
   "cell_type": "code",
   "execution_count": 21,
   "metadata": {},
   "outputs": [],
   "source": [
    "# Here I just write down manually what seems to be a good BUY and SELL threshold for each pair"
   ]
  },
  {
   "cell_type": "code",
   "execution_count": null,
   "metadata": {},
   "outputs": [],
   "source": []
  },
  {
   "cell_type": "code",
   "execution_count": 229,
   "metadata": {},
   "outputs": [],
   "source": [
    "# -1 means I don't want to play this market\n",
    "\n",
    "C_thresholds = [\n",
    "    {\"pair\":\"DOGEUSDT\",\"buy_thr\":0.00085,\"sell_thr\":-1},\n",
    "    {\"pair\":\"AVAXUSDT\",\"buy_thr\":1,\"sell_thr\":-1},\n",
    "    {\"pair\":\"SOLUSDT\",\"buy_thr\":0.00038,\"sell_thr\":-0.0008},\n",
    "    {\"pair\":\"SHIBUSDT\",\"buy_thr\":1,\"sell_thr\":-1},\n",
    "    {\"pair\":\"EURUSDT\",\"buy_thr\":1,\"sell_thr\":-1},\n",
    "    {\"pair\":\"GBPUSDT\",\"buy_thr\":1,\"sell_thr\":-1},\n",
    "    {\"pair\":\"ETCETH\",\"buy_thr\":1,\"sell_thr\":-1},\n",
    "    {\"pair\":\"ETCBTC\",\"buy_thr\":1,\"sell_thr\":-1},\n",
    "    {\"pair\":\"MKRUSDT\",\"buy_thr\":-0.00015,\"sell_thr\":-1},\n",
    "    {\"pair\":\"MKRBTC\",\"buy_thr\":1,\"sell_thr\":-1},\n",
    "    {\"pair\":\"IOTAUSDT\",\"buy_thr\":1,\"sell_thr\":-1},\n",
    "    {\"pair\":\"ADAUSDT\",\"buy_thr\":0.0003,\"sell_thr\":-0.0003},\n",
    "    {\"pair\":\"XLMUSDT\",\"buy_thr\":1,\"sell_thr\":-1},\n",
    "    {\"pair\":\"TRXUSDT\",\"buy_thr\":1,\"sell_thr\":-1},\n",
    "    {\"pair\":\"XMRUSDT\",\"buy_thr\":1,\"sell_thr\":-1},\n",
    "    {\"pair\":\"EOSUSDT\",\"buy_thr\":1,\"sell_thr\":-1},\n",
    "    {\"pair\":\"DOGEGBP\",\"buy_thr\":1,\"sell_thr\":-1},\n",
    "    {\"pair\":\"BTCEUR\",\"buy_thr\":-0.00035,\"sell_thr\":-1},\n",
    "    {\"pair\":\"BTCGBP\",\"buy_thr\":1,\"sell_thr\":-1},\n",
    "    {\"pair\":\"BTCUSDT\",\"buy_thr\":1,\"sell_thr\":-1}\n",
    "]"
   ]
  },
  {
   "cell_type": "code",
   "execution_count": 231,
   "metadata": {},
   "outputs": [],
   "source": [
    "pd.DataFrame(C_thresholds).to_pickle('C_thresholds.pkl')"
   ]
  },
  {
   "cell_type": "code",
   "execution_count": 6,
   "metadata": {},
   "outputs": [
    {
     "name": "stdout",
     "output_type": "stream",
     "text": [
      "DOGEUSDT\n",
      "11.012492 1.655649\n"
     ]
    }
   ],
   "source": [
    "c = 0\n",
    "print(C[c])\n",
    "print(y_hat_test[:,c].sum(), y_test[:,c].sum() )\n",
    "min_n = np.quantile(y_hat_test[:,c],0.0001) \n",
    "max_n = np.quantile(y_hat_test[:,c],0.9999)\n",
    "results = []\n",
    "for thr in np.arange(min_n, max_n, (max_n-min_n)/2000):\n",
    "    results.append({'thr':thr, 'sum':(y_test[y_hat_test[:,c]>thr, c]-0.001).sum(),'avg':(y_test[y_hat_test[:,c]>thr, c]-0.001).mean()})"
   ]
  },
  {
   "cell_type": "code",
   "execution_count": 7,
   "metadata": {},
   "outputs": [],
   "source": [
    "results = pd.DataFrame(results)\n",
    "sns.set(rc={'figure.figsize':(16.7,8.27)})\n",
    "sns.set_style(\"ticks\",{'axes.grid' : True})"
   ]
  },
  {
   "cell_type": "code",
   "execution_count": 8,
   "metadata": {},
   "outputs": [
    {
     "data": {
      "text/plain": [
       "<AxesSubplot:xlabel='thr', ylabel='sum'>"
      ]
     },
     "execution_count": 8,
     "metadata": {},
     "output_type": "execute_result"
    },
    {
     "data": {
      "image/png": "[encoded data removed]",
      "text/plain": [
       "<Figure size 1202.4x595.44 with 1 Axes>"
      ]
     },
     "metadata": {},
     "output_type": "display_data"
    }
   ],
   "source": [
    "sns.lineplot(x='thr',y='sum',data=results)"
   ]
  },
  {
   "cell_type": "code",
   "execution_count": 227,
   "metadata": {},
   "outputs": [
    {
     "data": {
      "text/plain": [
       "<AxesSubplot:xlabel='thr', ylabel='avg'>"
      ]
     },
     "execution_count": 227,
     "metadata": {},
     "output_type": "execute_result"
    },
    {
     "data": {
      "image/png": "[encoded data removed]",
      "text/plain": [
       "<Figure size 1202.4x595.44 with 1 Axes>"
      ]
     },
     "metadata": {},
     "output_type": "display_data"
    }
   ],
   "source": [
    "sns.lineplot(x='thr',y='avg',data=results)"
   ]
  },
  {
   "cell_type": "code",
   "execution_count": 218,
   "metadata": {},
   "outputs": [
    {
     "name": "stdout",
     "output_type": "stream",
     "text": [
      "BTCUSDT\n"
     ]
    }
   ],
   "source": [
    "print(C[c])\n",
    "min_n = np.quantile(y_hat_test[:,c],0.001) \n",
    "max_n = np.quantile(y_hat_test[:,c],0.999)\n",
    "results = []\n",
    "for thr in np.arange(max_n, min_n, -(max_n-min_n)/200):\n",
    "    results.append({'thr':thr, 'sum':((-y_test[y_hat_test[:,c]<thr, c])-0.001).sum(),'avg':((-y_test[y_hat_test[:,c]<thr, c])-0.001).mean()})\n",
    "results = pd.DataFrame(results)"
   ]
  },
  {
   "cell_type": "code",
   "execution_count": 219,
   "metadata": {},
   "outputs": [
    {
     "data": {
      "text/plain": [
       "<AxesSubplot:xlabel='thr', ylabel='sum'>"
      ]
     },
     "execution_count": 219,
     "metadata": {},
     "output_type": "execute_result"
    },
    {
     "data": {
      "image/png": "[encoded data removed]",
      "text/plain": [
       "<Figure size 1202.4x595.44 with 1 Axes>"
      ]
     },
     "metadata": {},
     "output_type": "display_data"
    }
   ],
   "source": [
    "sns.lineplot(x='thr',y='sum',data=results)"
   ]
  },
  {
   "cell_type": "code",
   "execution_count": 213,
   "metadata": {},
   "outputs": [
    {
     "data": {
      "text/plain": [
       "<AxesSubplot:xlabel='thr', ylabel='avg'>"
      ]
     },
     "execution_count": 213,
     "metadata": {},
     "output_type": "execute_result"
    },
    {
     "data": {
      "image/png": "[encoded data removed]",
      "text/plain": [
       "<Figure size 1202.4x595.44 with 1 Axes>"
      ]
     },
     "metadata": {},
     "output_type": "display_data"
    }
   ],
   "source": [
    "sns.lineplot(x='thr',y='avg',data=results)"
   ]
  },
  {
   "cell_type": "code",
   "execution_count": 6,
   "metadata": {},
   "outputs": [],
   "source": [
    "# attempt to find better thresholds by looking at predictions of last [sliding window] naive or with LR"
   ]
  },
  {
   "cell_type": "code",
   "execution_count": 9,
   "metadata": {},
   "outputs": [
    {
     "data": {
      "application/vnd.jupyter.widget-view+json": {
       "model_id": "94a0dfcad6694997a04e055bd8fad4bd",
       "version_major": 2,
       "version_minor": 0
      },
      "text/plain": [
       "  0%|          | 0/19784 [00:00<?, ?it/s]"
      ]
     },
     "metadata": {},
     "output_type": "display_data"
    }
   ],
   "source": [
    "from sklearn.linear_model import LinearRegression\n",
    "\n",
    "predictions = []\n",
    "for i in tqdm(range(512, y_test.shape[0],1)):\n",
    "    subsample_hat = y_hat_test[i-512:i-1,:]\n",
    "    subsample_y = y_test[i-512:i-1,:]\n",
    "    reg = LinearRegression().fit(subsample_hat, subsample_y)\n",
    "    predictions.append(reg.predict(y_hat_test[i,:].reshape(1, -1)))"
   ]
  },
  {
   "cell_type": "code",
   "execution_count": 10,
   "metadata": {},
   "outputs": [],
   "source": [
    "predictions_df = np.vstack(predictions)"
   ]
  },
  {
   "cell_type": "code",
   "execution_count": 77,
   "metadata": {},
   "outputs": [],
   "source": [
    "thresholds = []\n",
    "for c in range(0,20,1):\n",
    "    min_n = np.quantile(predictions_df[:,c],0.0001) \n",
    "    max_n = np.quantile(predictions_df[:,c],0.9999)\n",
    "    results = []\n",
    "    for thr in np.arange(min_n, max_n, (max_n-min_n)/2000):\n",
    "        results.append({'thr':thr, 'sum':(y_test[512:][predictions_df[:,c]>thr, c]-0.001).sum(),'avg':(y_test[512:][predictions_df[:,c]>thr, c]-0.001).mean()})\n",
    "\n",
    "    results = pd.DataFrame(results)\n",
    "\n",
    "    buy_thr = 1\n",
    "    if results.iloc[results['sum'].argmax()]['sum']>3:\n",
    "        buy_thr = results.iloc[results['sum'].argmax()+5].thr\n",
    "\n",
    "    results = []\n",
    "    for thr in np.arange(min_n, max_n, (max_n-min_n)/2000):\n",
    "        results.append({'thr':thr, 'sum':(-y_test[512:][predictions_df[:,c]<thr, c]-0.001).sum(),'avg':(-y_test[512:][predictions_df[:,c]<thr, c]-0.001).mean()})\n",
    "\n",
    "    results = pd.DataFrame(results)\n",
    "\n",
    "    sell_thr = -1\n",
    "    if results.iloc[results['sum'].argmax()]['sum']>3:\n",
    "        sell_thr = results.iloc[results['sum'].argmax()+5].thr\n",
    "\n",
    "    thresholds.append({'pair':C[c], 'buy_thr': buy_thr, 'sell_thr': sell_thr})\n",
    "\n",
    "thresholds = pd.DataFrame(thresholds)\n"
   ]
  },
  {
   "cell_type": "code",
   "execution_count": 78,
   "metadata": {},
   "outputs": [
    {
     "data": {
      "text/html": [
       "<div>\n",
       "<style scoped>\n",
       "    .dataframe tbody tr th:only-of-type {\n",
       "        vertical-align: middle;\n",
       "    }\n",
       "\n",
       "    .dataframe tbody tr th {\n",
       "        vertical-align: top;\n",
       "    }\n",
       "\n",
       "    .dataframe thead th {\n",
       "        text-align: right;\n",
       "    }\n",
       "</style>\n",
       "<table border=\"1\" class=\"dataframe\">\n",
       "  <thead>\n",
       "    <tr style=\"text-align: right;\">\n",
       "      <th></th>\n",
       "      <th>pair</th>\n",
       "      <th>buy_thr</th>\n",
       "      <th>sell_thr</th>\n",
       "    </tr>\n",
       "  </thead>\n",
       "  <tbody>\n",
       "    <tr>\n",
       "      <th>0</th>\n",
       "      <td>DOGEUSDT</td>\n",
       "      <td>0.003693</td>\n",
       "      <td>-0.001139</td>\n",
       "    </tr>\n",
       "    <tr>\n",
       "      <th>1</th>\n",
       "      <td>AVAXUSDT</td>\n",
       "      <td>0.003184</td>\n",
       "      <td>-0.000901</td>\n",
       "    </tr>\n",
       "    <tr>\n",
       "      <th>2</th>\n",
       "      <td>SOLUSDT</td>\n",
       "      <td>0.004011</td>\n",
       "      <td>-0.001114</td>\n",
       "    </tr>\n",
       "    <tr>\n",
       "      <th>3</th>\n",
       "      <td>SHIBUSDT</td>\n",
       "      <td>0.002688</td>\n",
       "      <td>-0.000901</td>\n",
       "    </tr>\n",
       "    <tr>\n",
       "      <th>4</th>\n",
       "      <td>EURUSDT</td>\n",
       "      <td>1.000000</td>\n",
       "      <td>-1.000000</td>\n",
       "    </tr>\n",
       "    <tr>\n",
       "      <th>5</th>\n",
       "      <td>GBPUSDT</td>\n",
       "      <td>1.000000</td>\n",
       "      <td>-1.000000</td>\n",
       "    </tr>\n",
       "    <tr>\n",
       "      <th>6</th>\n",
       "      <td>ETCETH</td>\n",
       "      <td>1.000000</td>\n",
       "      <td>-1.000000</td>\n",
       "    </tr>\n",
       "    <tr>\n",
       "      <th>7</th>\n",
       "      <td>ETCBTC</td>\n",
       "      <td>1.000000</td>\n",
       "      <td>-1.000000</td>\n",
       "    </tr>\n",
       "    <tr>\n",
       "      <th>8</th>\n",
       "      <td>MKRUSDT</td>\n",
       "      <td>0.003294</td>\n",
       "      <td>-0.001232</td>\n",
       "    </tr>\n",
       "    <tr>\n",
       "      <th>9</th>\n",
       "      <td>MKRBTC</td>\n",
       "      <td>1.000000</td>\n",
       "      <td>-1.000000</td>\n",
       "    </tr>\n",
       "    <tr>\n",
       "      <th>10</th>\n",
       "      <td>IOTAUSDT</td>\n",
       "      <td>0.002988</td>\n",
       "      <td>-0.001737</td>\n",
       "    </tr>\n",
       "    <tr>\n",
       "      <th>11</th>\n",
       "      <td>ADAUSDT</td>\n",
       "      <td>0.003300</td>\n",
       "      <td>-0.001744</td>\n",
       "    </tr>\n",
       "    <tr>\n",
       "      <th>12</th>\n",
       "      <td>XLMUSDT</td>\n",
       "      <td>0.003570</td>\n",
       "      <td>-0.002105</td>\n",
       "    </tr>\n",
       "    <tr>\n",
       "      <th>13</th>\n",
       "      <td>TRXUSDT</td>\n",
       "      <td>1.000000</td>\n",
       "      <td>-0.001371</td>\n",
       "    </tr>\n",
       "    <tr>\n",
       "      <th>14</th>\n",
       "      <td>XMRUSDT</td>\n",
       "      <td>0.003230</td>\n",
       "      <td>-0.000788</td>\n",
       "    </tr>\n",
       "    <tr>\n",
       "      <th>15</th>\n",
       "      <td>EOSUSDT</td>\n",
       "      <td>0.004309</td>\n",
       "      <td>-0.000969</td>\n",
       "    </tr>\n",
       "    <tr>\n",
       "      <th>16</th>\n",
       "      <td>DOGEGBP</td>\n",
       "      <td>0.003002</td>\n",
       "      <td>-0.001421</td>\n",
       "    </tr>\n",
       "    <tr>\n",
       "      <th>17</th>\n",
       "      <td>BTCEUR</td>\n",
       "      <td>0.003344</td>\n",
       "      <td>-1.000000</td>\n",
       "    </tr>\n",
       "    <tr>\n",
       "      <th>18</th>\n",
       "      <td>BTCGBP</td>\n",
       "      <td>0.003558</td>\n",
       "      <td>-1.000000</td>\n",
       "    </tr>\n",
       "    <tr>\n",
       "      <th>19</th>\n",
       "      <td>BTCUSDT</td>\n",
       "      <td>0.002744</td>\n",
       "      <td>-1.000000</td>\n",
       "    </tr>\n",
       "  </tbody>\n",
       "</table>\n",
       "</div>"
      ],
      "text/plain": [
       "        pair   buy_thr  sell_thr\n",
       "0   DOGEUSDT  0.003693 -0.001139\n",
       "1   AVAXUSDT  0.003184 -0.000901\n",
       "2    SOLUSDT  0.004011 -0.001114\n",
       "3   SHIBUSDT  0.002688 -0.000901\n",
       "4    EURUSDT  1.000000 -1.000000\n",
       "5    GBPUSDT  1.000000 -1.000000\n",
       "6     ETCETH  1.000000 -1.000000\n",
       "7     ETCBTC  1.000000 -1.000000\n",
       "8    MKRUSDT  0.003294 -0.001232\n",
       "9     MKRBTC  1.000000 -1.000000\n",
       "10  IOTAUSDT  0.002988 -0.001737\n",
       "11   ADAUSDT  0.003300 -0.001744\n",
       "12   XLMUSDT  0.003570 -0.002105\n",
       "13   TRXUSDT  1.000000 -0.001371\n",
       "14   XMRUSDT  0.003230 -0.000788\n",
       "15   EOSUSDT  0.004309 -0.000969\n",
       "16   DOGEGBP  0.003002 -0.001421\n",
       "17    BTCEUR  0.003344 -1.000000\n",
       "18    BTCGBP  0.003558 -1.000000\n",
       "19   BTCUSDT  0.002744 -1.000000"
      ]
     },
     "execution_count": 78,
     "metadata": {},
     "output_type": "execute_result"
    }
   ],
   "source": [
    "thresholds"
   ]
  },
  {
   "cell_type": "code",
   "execution_count": 79,
   "metadata": {},
   "outputs": [],
   "source": [
    "thresholds.to_pickle('thresholds_sum.pkl')"
   ]
  },
  {
   "cell_type": "code",
   "execution_count": 48,
   "metadata": {},
   "outputs": [
    {
     "data": {
      "text/plain": [
       "<AxesSubplot:xlabel='thr', ylabel='sum'>"
      ]
     },
     "execution_count": 48,
     "metadata": {},
     "output_type": "execute_result"
    },
    {
     "data": {
      "image/png": "[encoded data removed]",
      "text/plain": [
       "<Figure size 1202.4x595.44 with 1 Axes>"
      ]
     },
     "metadata": {},
     "output_type": "display_data"
    }
   ],
   "source": [
    "sns.lineplot(x='thr',y='sum',data=results)"
   ]
  },
  {
   "cell_type": "code",
   "execution_count": 49,
   "metadata": {},
   "outputs": [
    {
     "data": {
      "text/plain": [
       "thr   -0.002097\n",
       "sum    7.844540\n",
       "avg    0.001295\n",
       "Name: 1461, dtype: float64"
      ]
     },
     "execution_count": 49,
     "metadata": {},
     "output_type": "execute_result"
    }
   ],
   "source": []
  },
  {
   "cell_type": "code",
   "execution_count": 18,
   "metadata": {},
   "outputs": [
    {
     "data": {
      "text/plain": [
       "0.0007377118"
      ]
     },
     "execution_count": 18,
     "metadata": {},
     "output_type": "execute_result"
    }
   ],
   "source": []
  },
  {
   "cell_type": "code",
   "execution_count": 56,
   "metadata": {},
   "outputs": [
    {
     "data": {
      "application/vnd.jupyter.widget-view+json": {
       "model_id": "746d5bacc4fb476c94b18149b6b0541f",
       "version_major": 2,
       "version_minor": 0
      },
      "text/plain": [
       "  0%|          | 0/19784 [00:00<?, ?it/s]"
      ]
     },
     "metadata": {},
     "output_type": "display_data"
    },
    {
     "name": "stderr",
     "output_type": "stream",
     "text": [
      "/tmp/ipykernel_19924/3026777023.py:21: RuntimeWarning: divide by zero encountered in double_scalars\n",
      "  if p_big/p_small > 1.5:\n"
     ]
    }
   ],
   "source": [
    "from tqdm.auto import tqdm\n",
    "trade_results = []\n",
    "for i in tqdm(range(512, y_test.shape[0],1)):\n",
    "\n",
    "    subsample = y_test[i-1]\n",
    "    c = 0\n",
    "\n",
    "    subsample_hat = y_hat_test[i-512:i-1,c]\n",
    "    subsample_y = y_test[i-512:i-1,c]\n",
    "\n",
    "    small = subsample_hat[subsample_y<-0.002]\n",
    "    med = subsample_hat[(subsample_y>-0.0020) & (subsample_y<0.002)]\n",
    "    big = subsample_hat[subsample_y>0.002]\n",
    "\n",
    "    if len(small)>10 and len(big)>10 and small.mean()<big.mean() and scipy.stats.norm(loc=small.mean(), scale=small.std()).cdf(big.mean()) > 0.6:\n",
    "        if scipy.stats.norm(loc=small.mean(), scale=small.std()).cdf(y_hat_test[i,c]) > 0.65:\n",
    "            \n",
    "            p_small = 1-scipy.stats.norm(loc=small.mean(), scale=small.std()).cdf(y_hat_test[i,c])\n",
    "            p_big = 1-scipy.stats.norm(loc=big.mean(), scale=big.std()).cdf(y_hat_test[i,c])\n",
    "\n",
    "            if p_big/p_small > 1.5:\n",
    "                trade_results.append(y_test[i,c])\n",
    "    \n",
    "    if len(small)>10 and len(big)>10 and small.mean()>big.mean() and scipy.stats.norm(loc=big.mean(), scale=big.std()).cdf(small.mean()) > 0.6:\n",
    "        if scipy.stats.norm(loc=small.mean(), scale=small.std()).cdf(y_hat_test[i,c]) > 0.65:\n",
    "            \n",
    "            p_small = 1-scipy.stats.norm(loc=small.mean(), scale=small.std()).cdf(y_hat_test[i,c])\n",
    "            p_big = 1-scipy.stats.norm(loc=big.mean(), scale=big.std()).cdf(y_hat_test[i,c])\n",
    "\n",
    "            if p_big/p_small > 1.5:\n",
    "                trade_results.append(y_test[i,c])\n",
    "        "
   ]
  },
  {
   "cell_type": "code",
   "execution_count": 59,
   "metadata": {},
   "outputs": [
    {
     "data": {
      "text/plain": [
       "(2838,)"
      ]
     },
     "execution_count": 59,
     "metadata": {},
     "output_type": "execute_result"
    }
   ],
   "source": [
    "np.array(trade_results).shape"
   ]
  },
  {
   "cell_type": "code",
   "execution_count": 60,
   "metadata": {},
   "outputs": [
    {
     "data": {
      "text/plain": [
       "(20296,)"
      ]
     },
     "execution_count": 60,
     "metadata": {},
     "output_type": "execute_result"
    }
   ],
   "source": [
    "y_test[:,c].shape"
   ]
  },
  {
   "cell_type": "code",
   "execution_count": 37,
   "metadata": {},
   "outputs": [
    {
     "data": {
      "text/plain": [
       "0.00073076325"
      ]
     },
     "execution_count": 37,
     "metadata": {},
     "output_type": "execute_result"
    }
   ],
   "source": [
    "big.mean()"
   ]
  },
  {
   "cell_type": "code",
   "execution_count": 43,
   "metadata": {},
   "outputs": [
    {
     "data": {
      "text/plain": [
       "0.08981268537425147"
      ]
     },
     "execution_count": 43,
     "metadata": {},
     "output_type": "execute_result"
    }
   ],
   "source": [
    "1-scipy.stats.norm(loc=small.mean(), scale=small.std()).cdf(y_hat_test[i,c])"
   ]
  },
  {
   "cell_type": "code",
   "execution_count": 42,
   "metadata": {},
   "outputs": [
    {
     "data": {
      "text/plain": [
       "0.15938833579517553"
      ]
     },
     "execution_count": 42,
     "metadata": {},
     "output_type": "execute_result"
    }
   ],
   "source": [
    "1-scipy.stats.norm(loc=big.mean(), scale=big.std()).cdf(y_hat_test[i,c])"
   ]
  },
  {
   "cell_type": "code",
   "execution_count": 41,
   "metadata": {},
   "outputs": [
    {
     "data": {
      "text/plain": [
       "0.0007599592"
      ]
     },
     "execution_count": 41,
     "metadata": {},
     "output_type": "execute_result"
    }
   ],
   "source": [
    "y_hat_test[i,c]"
   ]
  },
  {
   "cell_type": "code",
   "execution_count": null,
   "metadata": {},
   "outputs": [],
   "source": []
  },
  {
   "cell_type": "code",
   "execution_count": null,
   "metadata": {},
   "outputs": [],
   "source": []
  },
  {
   "cell_type": "code",
   "execution_count": null,
   "metadata": {},
   "outputs": [],
   "source": []
  },
  {
   "cell_type": "code",
   "execution_count": null,
   "metadata": {},
   "outputs": [],
   "source": []
  },
  {
   "cell_type": "code",
   "execution_count": null,
   "metadata": {},
   "outputs": [],
   "source": []
  },
  {
   "cell_type": "code",
   "execution_count": null,
   "metadata": {},
   "outputs": [],
   "source": []
  },
  {
   "cell_type": "code",
   "execution_count": 7,
   "metadata": {},
   "outputs": [
    {
     "name": "stdout",
     "output_type": "stream",
     "text": [
      "DOGEUSDT\n",
      "11.012492 1.655649\n"
     ]
    }
   ],
   "source": [
    "c = 0\n",
    "print(C[c])\n",
    "print(y_hat_test[:,c].sum(), y_test[:,c].sum() )\n",
    "min_n = np.quantile(y_hat_test[:,c],0.0001) \n",
    "max_n = np.quantile(y_hat_test[:,c],0.9999)\n",
    "results = []\n",
    "for thr in np.arange(min_n, max_n, (max_n-min_n)/200):\n",
    "    results.append({'thr':thr, 'sum':(y_test[y_hat_test[:,c]>thr, c]-0.00001).sum(),'avg':(y_test[y_hat_test[:,c]>thr, c]-0.00001).mean()})"
   ]
  },
  {
   "cell_type": "code",
   "execution_count": 7,
   "metadata": {},
   "outputs": [],
   "source": [
    "def extract_windows_vectorized(clearing_time_index, max_time, sub_window_size):\n",
    "    start = clearing_time_index + 1 - sub_window_size + 1\n",
    "    \n",
    "    sub_windows = (\n",
    "        start +\n",
    "        # expand_dims are used to convert a 1D array to 2D array.\n",
    "        np.expand_dims(np.arange(sub_window_size), 0) +\n",
    "        np.expand_dims(np.arange(max_time + 1), 0).T\n",
    "    )\n",
    "    \n",
    "    return sub_windows"
   ]
  },
  {
   "cell_type": "code",
   "execution_count": 8,
   "metadata": {},
   "outputs": [],
   "source": [
    "idx = extract_windows_vectorized(512,19000,512)"
   ]
  },
  {
   "cell_type": "code",
   "execution_count": 102,
   "metadata": {},
   "outputs": [
    {
     "data": {
      "text/plain": [
       "(19001, 512)"
      ]
     },
     "execution_count": 102,
     "metadata": {},
     "output_type": "execute_result"
    }
   ],
   "source": [
    "idx.shape"
   ]
  },
  {
   "cell_type": "code",
   "execution_count": 15,
   "metadata": {},
   "outputs": [
    {
     "data": {
      "application/vnd.jupyter.widget-view+json": {
       "model_id": "2181ba0e716a461f81d59d1598dffd98",
       "version_major": 2,
       "version_minor": 0
      },
      "text/plain": [
       "  0%|          | 0/19784 [00:00<?, ?it/s]"
      ]
     },
     "metadata": {},
     "output_type": "display_data"
    }
   ],
   "source": [
    "from sklearn.linear_model import LinearRegression\n",
    "\n",
    "predictions = []\n",
    "for i in tqdm(range(512, y_test.shape[0],1)):\n",
    "    subsample_hat = y_hat_test[i-512:i-1,:]\n",
    "    subsample_y = y_test[i-512:i-1,:]\n",
    "    reg = LinearRegression().fit(subsample_hat, subsample_y)\n",
    "    predictions.append(reg.predict(y_hat_test[i,:].reshape(1, -1)))"
   ]
  },
  {
   "cell_type": "code",
   "execution_count": 20,
   "metadata": {},
   "outputs": [],
   "source": [
    "y_lr_hat_test = np.vstack(predictions)"
   ]
  },
  {
   "cell_type": "code",
   "execution_count": 21,
   "metadata": {},
   "outputs": [
    {
     "data": {
      "text/plain": [
       "(19784, 20)"
      ]
     },
     "execution_count": 21,
     "metadata": {},
     "output_type": "execute_result"
    }
   ],
   "source": [
    "y_lr_hat_test.shape"
   ]
  },
  {
   "cell_type": "code",
   "execution_count": 23,
   "metadata": {},
   "outputs": [
    {
     "data": {
      "text/plain": [
       "(20296, 20)"
      ]
     },
     "execution_count": 23,
     "metadata": {},
     "output_type": "execute_result"
    }
   ],
   "source": [
    "y_test.shape"
   ]
  },
  {
   "cell_type": "code",
   "execution_count": 28,
   "metadata": {},
   "outputs": [
    {
     "data": {
      "text/plain": [
       "array([[0.00252056, 0.00097179, 0.00263786, ..., 0.00178146, 0.00162601,\n",
       "        0.0016489 ],\n",
       "       [0.00266933, 0.00049305, 0.00239992, ..., 0.00229573, 0.0019598 ,\n",
       "        0.00209546],\n",
       "       [0.0049963 , 0.00337124, 0.00459099, ..., 0.00421834, 0.00409102,\n",
       "        0.00402761],\n",
       "       ...,\n",
       "       [0.00347418, 0.00329751, 0.00405312, ..., 0.00242865, 0.00278795,\n",
       "        0.00270128],\n",
       "       [0.00400786, 0.00426218, 0.00390816, ..., 0.00236285, 0.00287259,\n",
       "        0.00268018],\n",
       "       [0.00366169, 0.00417101, 0.00331736, ..., 0.00173485, 0.00217772,\n",
       "        0.00202894]], dtype=float32)"
      ]
     },
     "execution_count": 28,
     "metadata": {},
     "output_type": "execute_result"
    }
   ],
   "source": [
    "y_lr_hat_test"
   ]
  },
  {
   "cell_type": "code",
   "execution_count": null,
   "metadata": {},
   "outputs": [],
   "source": []
  },
  {
   "cell_type": "code",
   "execution_count": 29,
   "metadata": {},
   "outputs": [
    {
     "name": "stdout",
     "output_type": "stream",
     "text": [
      "0 0.001508272 -0.0013156674\n",
      "1 0.0025820292 -0.0019303084\n",
      "2 0.00168871 -0.0015524329\n",
      "3 0.0017912054 -0.001475171\n",
      "4 4.21819e-05 -3.6878802e-05\n",
      "5 7.33948e-05 -5.3469004e-05\n",
      "6 0.00055081974 -0.00052712864\n",
      "7 0.00049209484 -0.00055053656\n",
      "8 0.0013814141 -0.001293221\n",
      "9 0.00073699397 -0.0008016952\n",
      "10 0.001832245 -0.0015401528\n",
      "11 0.0015996444 -0.0013154752\n",
      "12 0.0013509872 -0.0012251325\n",
      "13 0.0008924437 -0.0009724814\n",
      "14 0.0014388569 -0.0013046348\n",
      "15 0.0016695778 -0.0014002449\n",
      "16 0.0015569655 -0.0013056217\n",
      "17 0.0009887993 -0.0008748219\n",
      "18 0.00097329204 -0.0008699196\n",
      "19 0.0009929519 -0.00086811656\n"
     ]
    }
   ],
   "source": [
    "for i in range(0,20):\n",
    "    print(i, y_test[512:,i][y_lr_hat_test[:,i]>0].mean(), y_test[512:,i][y_lr_hat_test[:,i]<0].mean())"
   ]
  },
  {
   "cell_type": "code",
   "execution_count": 13,
   "metadata": {},
   "outputs": [
    {
     "data": {
      "text/plain": [
       "array([ 0.00117648,  0.00078142, -0.00033617,  0.00028634, -0.00088567,\n",
       "        0.00075698, -0.00325388,  0.00127232, -0.0011825 , -0.00190181,\n",
       "       -0.0006969 ,  0.00076687, -0.00036228, -0.00110972, -0.0026288 ,\n",
       "       -0.00153708,  0.00311041,  0.00062823,  0.00061905,  0.00065184],\n",
       "      dtype=float32)"
      ]
     },
     "execution_count": 13,
     "metadata": {},
     "output_type": "execute_result"
    }
   ],
   "source": [
    "y_test[i,:]"
   ]
  },
  {
   "cell_type": "code",
   "execution_count": 35,
   "metadata": {},
   "outputs": [
    {
     "data": {
      "text/plain": [
       "<AxesSubplot:>"
      ]
     },
     "execution_count": 35,
     "metadata": {},
     "output_type": "execute_result"
    },
    {
     "data": {
      "image/png": "[encoded data removed]",
      "text/plain": [
       "<Figure size 432x288 with 1 Axes>"
      ]
     },
     "metadata": {
      "needs_background": "light"
     },
     "output_type": "display_data"
    }
   ],
   "source": [
    "sns.scatterplot(y=y_test[:,0], x=list(range(len(y_test))))"
   ]
  },
  {
   "cell_type": "code",
   "execution_count": 103,
   "metadata": {},
   "outputs": [
    {
     "data": {
      "text/plain": [
       "Ttest_indResult(statistic=-0.2917986766910186, pvalue=0.7704435396582445)"
      ]
     },
     "execution_count": 103,
     "metadata": {},
     "output_type": "execute_result"
    }
   ],
   "source": [
    "ttest_ind(y_hat_test[y_test[:,4]<0.001,0], y_hat_test[y_test[:,4]>0.001,0])"
   ]
  },
  {
   "cell_type": "code",
   "execution_count": 9,
   "metadata": {},
   "outputs": [],
   "source": [
    "from scipy.stats import ttest_ind\n",
    "r = []\n",
    "for i in range(0, 19000,1):\n",
    "    cl1 = y_hat_test[idx[i],0][y_test[idx[i],0]>0.001]\n",
    "    cl2 = y_hat_test[idx[i],0][y_test[idx[i],0]<0.001]\n",
    "    q = ttest_ind(cl1, cl2, alternative='greater')\n",
    "    r.append(q.pvalue)\n",
    "    if q.pvalue<0.001: break"
   ]
  },
  {
   "cell_type": "code",
   "execution_count": 14,
   "metadata": {},
   "outputs": [
    {
     "data": {
      "text/plain": [
       "array([175, 176, 177, 178, 179, 180, 181, 182, 183, 184, 185, 186, 187,\n",
       "       188, 189, 190, 191, 192, 193, 194, 195, 196, 197, 198, 199, 200,\n",
       "       201, 202, 203, 204, 205, 206, 207, 208, 209, 210, 211, 212, 213,\n",
       "       214, 215, 216, 217, 218, 219, 220, 221, 222, 223, 224, 225, 226,\n",
       "       227, 228, 229, 230, 231, 232, 233, 234, 235, 236, 237, 238, 239,\n",
       "       240, 241, 242, 243, 244, 245, 246, 247, 248, 249, 250, 251, 252,\n",
       "       253, 254, 255, 256, 257, 258, 259, 260, 261, 262, 263, 264, 265,\n",
       "       266, 267, 268, 269, 270, 271, 272, 273, 274, 275, 276, 277, 278,\n",
       "       279, 280, 281, 282, 283, 284, 285, 286, 287, 288, 289, 290, 291,\n",
       "       292, 293, 294, 295, 296, 297, 298, 299, 300, 301, 302, 303, 304,\n",
       "       305, 306, 307, 308, 309, 310, 311, 312, 313, 314, 315, 316, 317,\n",
       "       318, 319, 320, 321, 322, 323, 324, 325, 326, 327, 328, 329, 330,\n",
       "       331, 332, 333, 334, 335, 336, 337, 338, 339, 340, 341, 342, 343,\n",
       "       344, 345, 346, 347, 348, 349, 350, 351, 352, 353, 354, 355, 356,\n",
       "       357, 358, 359, 360, 361, 362, 363, 364, 365, 366, 367, 368, 369,\n",
       "       370, 371, 372, 373, 374, 375, 376, 377, 378, 379, 380, 381, 382,\n",
       "       383, 384, 385, 386, 387, 388, 389, 390, 391, 392, 393, 394, 395,\n",
       "       396, 397, 398, 399, 400, 401, 402, 403, 404, 405, 406, 407, 408,\n",
       "       409, 410, 411, 412, 413, 414, 415, 416, 417, 418, 419, 420, 421,\n",
       "       422, 423, 424, 425, 426, 427, 428, 429, 430, 431, 432, 433, 434,\n",
       "       435, 436, 437, 438, 439, 440, 441, 442, 443, 444, 445, 446, 447,\n",
       "       448, 449, 450, 451, 452, 453, 454, 455, 456, 457, 458, 459, 460,\n",
       "       461, 462, 463, 464, 465, 466, 467, 468, 469, 470, 471, 472, 473,\n",
       "       474, 475, 476, 477, 478, 479, 480, 481, 482, 483, 484, 485, 486,\n",
       "       487, 488, 489, 490, 491, 492, 493, 494, 495, 496, 497, 498, 499,\n",
       "       500, 501, 502, 503, 504, 505, 506, 507, 508, 509, 510, 511, 512,\n",
       "       513, 514, 515, 516, 517, 518, 519, 520, 521, 522, 523, 524, 525,\n",
       "       526, 527, 528, 529, 530, 531, 532, 533, 534, 535, 536, 537, 538,\n",
       "       539, 540, 541, 542, 543, 544, 545, 546, 547, 548, 549, 550, 551,\n",
       "       552, 553, 554, 555, 556, 557, 558, 559, 560, 561, 562, 563, 564,\n",
       "       565, 566, 567, 568, 569, 570, 571, 572, 573, 574, 575, 576, 577,\n",
       "       578, 579, 580, 581, 582, 583, 584, 585, 586, 587, 588, 589, 590,\n",
       "       591, 592, 593, 594, 595, 596, 597, 598, 599, 600, 601, 602, 603,\n",
       "       604, 605, 606, 607, 608, 609, 610, 611, 612, 613, 614, 615, 616,\n",
       "       617, 618, 619, 620, 621, 622, 623, 624, 625, 626, 627, 628, 629,\n",
       "       630, 631, 632, 633, 634, 635, 636, 637, 638, 639, 640, 641, 642,\n",
       "       643, 644, 645, 646, 647, 648, 649, 650, 651, 652, 653, 654, 655,\n",
       "       656, 657, 658, 659, 660, 661, 662, 663, 664, 665, 666, 667, 668,\n",
       "       669, 670, 671, 672, 673, 674, 675, 676, 677, 678, 679, 680, 681,\n",
       "       682, 683, 684, 685, 686])"
      ]
     },
     "execution_count": 14,
     "metadata": {},
     "output_type": "execute_result"
    }
   ],
   "source": [
    "idx[i]"
   ]
  },
  {
   "cell_type": "code",
   "execution_count": 31,
   "metadata": {},
   "outputs": [
    {
     "data": {
      "text/plain": [
       "-0.00059455633"
      ]
     },
     "execution_count": 31,
     "metadata": {},
     "output_type": "execute_result"
    }
   ],
   "source": [
    "y_test[699,0]"
   ]
  },
  {
   "cell_type": "code",
   "execution_count": null,
   "metadata": {},
   "outputs": [],
   "source": []
  },
  {
   "cell_type": "code",
   "execution_count": 30,
   "metadata": {},
   "outputs": [
    {
     "data": {
      "text/plain": [
       "0.0007594675"
      ]
     },
     "execution_count": 30,
     "metadata": {},
     "output_type": "execute_result"
    }
   ],
   "source": [
    "y_hat_test[699,0]"
   ]
  },
  {
   "cell_type": "code",
   "execution_count": 13,
   "metadata": {},
   "outputs": [
    {
     "data": {
      "text/plain": [
       "0.014084578"
      ]
     },
     "execution_count": 13,
     "metadata": {},
     "output_type": "execute_result"
    }
   ],
   "source": [
    "y_test[i,0]"
   ]
  },
  {
   "cell_type": "code",
   "execution_count": 10,
   "metadata": {},
   "outputs": [
    {
     "data": {
      "text/plain": [
       "0.0007192863"
      ]
     },
     "execution_count": 10,
     "metadata": {},
     "output_type": "execute_result"
    }
   ],
   "source": [
    "cl1.mean()"
   ]
  },
  {
   "cell_type": "code",
   "execution_count": 11,
   "metadata": {},
   "outputs": [
    {
     "data": {
      "text/plain": [
       "0.0007095136"
      ]
     },
     "execution_count": 11,
     "metadata": {},
     "output_type": "execute_result"
    }
   ],
   "source": [
    "cl2.mean()"
   ]
  },
  {
   "cell_type": "code",
   "execution_count": 137,
   "metadata": {},
   "outputs": [
    {
     "data": {
      "text/plain": [
       "3.5283356e-05"
      ]
     },
     "execution_count": 137,
     "metadata": {},
     "output_type": "execute_result"
    }
   ],
   "source": [
    "cl1.std()"
   ]
  },
  {
   "cell_type": "code",
   "execution_count": 145,
   "metadata": {},
   "outputs": [
    {
     "data": {
      "text/plain": [
       "array([0.00065006, 0.00065048, 0.00065058, 0.00065056, 0.0006496 ,\n",
       "       0.00064948, 0.00065123, 0.00065202, 0.00065051, 0.00064915,\n",
       "       0.00064807, 0.00064873, 0.00064801, 0.00064762, 0.00064749,\n",
       "       0.00064803, 0.00064705, 0.00064757, 0.00064915, 0.00064898,\n",
       "       0.0006495 , 0.00065146, 0.00065322, 0.00065431, 0.00065401,\n",
       "       0.00065487, 0.00065526, 0.00065471, 0.00065362, 0.00066067,\n",
       "       0.0006643 , 0.00067628, 0.00067638, 0.00067648, 0.0006765 ,\n",
       "       0.00067703, 0.00067776, 0.00067881, 0.00067971, 0.00067941,\n",
       "       0.00067985, 0.0006799 , 0.0006801 , 0.00067949, 0.00068037,\n",
       "       0.00068802, 0.00068723, 0.00068779, 0.00071272, 0.0007139 ,\n",
       "       0.00071354, 0.00071463, 0.0007164 , 0.00071808, 0.00071872,\n",
       "       0.00071935, 0.00071854, 0.00071886, 0.00071856, 0.00071791,\n",
       "       0.00071768, 0.00071768, 0.00071766, 0.00071849, 0.00071909,\n",
       "       0.00071798, 0.00071804, 0.00071839, 0.00071847, 0.00071916,\n",
       "       0.00071909, 0.00071973, 0.00072011, 0.00071916, 0.00071964,\n",
       "       0.00072026, 0.00072148, 0.00072119, 0.00072111, 0.0007217 ,\n",
       "       0.00072852, 0.00072897, 0.00073045, 0.00073015, 0.00072977,\n",
       "       0.00072937, 0.0007299 , 0.00072999, 0.00072979, 0.00072991,\n",
       "       0.00073034, 0.00073022, 0.00073051, 0.00073072, 0.00073022,\n",
       "       0.00073   , 0.00073052, 0.00073536, 0.00073592, 0.00074098,\n",
       "       0.00074042, 0.00073972, 0.00074106, 0.00074289, 0.00074118,\n",
       "       0.00074164, 0.00074144, 0.00074205, 0.00074098, 0.00073887,\n",
       "       0.0007378 , 0.00073948, 0.00074038, 0.00074085, 0.00073948,\n",
       "       0.00073958, 0.00074036, 0.00073949, 0.00073936, 0.0007389 ,\n",
       "       0.00073921, 0.00073972, 0.00073858, 0.00073903, 0.0007398 ,\n",
       "       0.000739  , 0.00073762, 0.00074033, 0.00074059, 0.00073972,\n",
       "       0.00073881, 0.00075348, 0.00075321, 0.00075242, 0.00075236,\n",
       "       0.00074989, 0.00074971, 0.0007496 , 0.0007508 , 0.00075106,\n",
       "       0.0007496 , 0.00074904, 0.00074912, 0.00074971, 0.0007493 ,\n",
       "       0.00074926, 0.00074679, 0.00075258, 0.00075255, 0.00075334,\n",
       "       0.00075236, 0.00075189, 0.00075231, 0.0007516 , 0.00075182,\n",
       "       0.00075068, 0.00074943, 0.00074917, 0.00074973, 0.00074877,\n",
       "       0.00074778, 0.0007474 , 0.00074787, 0.00074846, 0.00074799,\n",
       "       0.00074786, 0.00074709, 0.00074705, 0.00074588, 0.00074563,\n",
       "       0.00074644, 0.0007467 , 0.00074661, 0.00074648, 0.00074686,\n",
       "       0.00074619, 0.00074744, 0.00074658, 0.0007464 , 0.00074632,\n",
       "       0.0007474 , 0.00074878, 0.00074578, 0.00074696, 0.00074815,\n",
       "       0.00074816, 0.00074747, 0.00074705, 0.00074667, 0.00074779,\n",
       "       0.00074858, 0.00074923, 0.0007498 , 0.00074969, 0.00074966,\n",
       "       0.00074972], dtype=float32)"
      ]
     },
     "execution_count": 145,
     "metadata": {},
     "output_type": "execute_result"
    }
   ],
   "source": [
    "cl1"
   ]
  },
  {
   "cell_type": "code",
   "execution_count": 167,
   "metadata": {},
   "outputs": [
    {
     "data": {
      "text/plain": [
       "0.3908984590605237"
      ]
     },
     "execution_count": 167,
     "metadata": {},
     "output_type": "execute_result"
    }
   ],
   "source": [
    "import scipy\n"
   ]
  },
  {
   "cell_type": "code",
   "execution_count": 169,
   "metadata": {},
   "outputs": [
    {
     "data": {
      "text/plain": [
       "0.18861646946145416"
      ]
     },
     "execution_count": 169,
     "metadata": {},
     "output_type": "execute_result"
    }
   ],
   "source": [
    "scipy.stats.norm(loc=cl2.mean(), scale=cl2.std()).sf(cl2.mean()+0.00003)"
   ]
  },
  {
   "cell_type": "code",
   "execution_count": null,
   "metadata": {},
   "outputs": [],
   "source": []
  },
  {
   "cell_type": "code",
   "execution_count": 93,
   "metadata": {},
   "outputs": [
    {
     "data": {
      "text/plain": [
       "1.494077"
      ]
     },
     "execution_count": 93,
     "metadata": {},
     "output_type": "execute_result"
    }
   ],
   "source": [
    "y_test[y_hat_test[:,c]>0.00001,c].sum()"
   ]
  },
  {
   "cell_type": "code",
   "execution_count": 96,
   "metadata": {},
   "outputs": [
    {
     "data": {
      "text/plain": [
       "0.0"
      ]
     },
     "execution_count": 96,
     "metadata": {},
     "output_type": "execute_result"
    }
   ],
   "source": [
    "y_test[y_hat_test[:,c]<-0.001,c].sum()"
   ]
  },
  {
   "cell_type": "code",
   "execution_count": 30,
   "metadata": {},
   "outputs": [],
   "source": [
    "final_data = pd.read_pickle('final_data.pkl')"
   ]
  },
  {
   "cell_type": "code",
   "execution_count": 59,
   "metadata": {},
   "outputs": [],
   "source": [
    "def extract_windows_vectorized(clearing_time_index, max_time, sub_window_size):\n",
    "    start = clearing_time_index + 1 - sub_window_size + 1\n",
    "    \n",
    "    sub_windows = (\n",
    "        start +\n",
    "        # expand_dims are used to convert a 1D array to 2D array.\n",
    "        np.expand_dims(np.arange(sub_window_size), 0) +\n",
    "        np.expand_dims(np.arange(max_time + 1), 0).T\n",
    "    )\n",
    "    \n",
    "    return sub_windows\n",
    "import yaml\n",
    "\n",
    "with open(\"config.yaml\", \"r\") as ymlfile:\n",
    "    cfg = yaml.safe_load(ymlfile)"
   ]
  },
  {
   "cell_type": "code",
   "execution_count": 56,
   "metadata": {},
   "outputs": [
    {
     "data": {
      "text/plain": [
       "array([[  2,   3,   4, ..., 511, 512, 513],\n",
       "       [  3,   4,   5, ..., 512, 513, 514],\n",
       "       [  4,   5,   6, ..., 513, 514, 515],\n",
       "       ...,\n",
       "       [472, 473, 474, ..., 981, 982, 983],\n",
       "       [473, 474, 475, ..., 982, 983, 984],\n",
       "       [474, 475, 476, ..., 983, 984, 985]])"
      ]
     },
     "execution_count": 56,
     "metadata": {},
     "output_type": "execute_result"
    }
   ],
   "source": [
    "extract_windows_vectorized(512, 1000-512-16, 512)"
   ]
  },
  {
   "cell_type": "code",
   "execution_count": 79,
   "metadata": {},
   "outputs": [],
   "source": [
    "idx = extract_windows_vectorized(512, 1000-512-17, 512)"
   ]
  },
  {
   "cell_type": "code",
   "execution_count": 80,
   "metadata": {},
   "outputs": [
    {
     "data": {
      "text/plain": [
       "array([[  2,   3,   4, ..., 511, 512, 513],\n",
       "       [  3,   4,   5, ..., 512, 513, 514],\n",
       "       [  4,   5,   6, ..., 513, 514, 515],\n",
       "       ...,\n",
       "       [471, 472, 473, ..., 980, 981, 982],\n",
       "       [472, 473, 474, ..., 981, 982, 983],\n",
       "       [473, 474, 475, ..., 982, 983, 984]])"
      ]
     },
     "execution_count": 80,
     "metadata": {},
     "output_type": "execute_result"
    }
   ],
   "source": [
    "idx"
   ]
  },
  {
   "cell_type": "code",
   "execution_count": 78,
   "metadata": {},
   "outputs": [
    {
     "data": {
      "text/plain": [
       "open_DOGEUSDT                           0.650828\n",
       "high_DOGEUSDT                           0.648422\n",
       "low_DOGEUSDT                            0.651940\n",
       "close_DOGEUSDT                          0.650821\n",
       "volume_DOGEUSDT                        -0.202367\n",
       "                                          ...   \n",
       "volume_BTCUSDT                         -0.619445\n",
       "quote_asset_volume_BTCUSDT             -0.504206\n",
       "number_of_trades_BTCUSDT               -0.577671\n",
       "taker_buy_base_asset_volume_BTCUSDT    -0.599122\n",
       "taker_buy_quote_asset_volume_BTCUSDT   -0.505320\n",
       "Name: 999, Length: 180, dtype: float32"
      ]
     },
     "execution_count": 78,
     "metadata": {},
     "output_type": "execute_result"
    }
   ],
   "source": [
    "final_data.iloc[999]"
   ]
  },
  {
   "cell_type": "code",
   "execution_count": 81,
   "metadata": {},
   "outputs": [
    {
     "data": {
      "text/plain": [
       "array([528, 529, 530, 531, 532, 533, 534, 535, 536, 537, 538, 539, 540,\n",
       "       541, 542, 543, 544, 545, 546, 547, 548, 549, 550, 551, 552, 553,\n",
       "       554, 555, 556, 557, 558, 559, 560, 561, 562, 563, 564, 565, 566,\n",
       "       567, 568, 569, 570, 571, 572, 573, 574, 575, 576, 577, 578, 579,\n",
       "       580, 581, 582, 583, 584, 585, 586, 587, 588, 589, 590, 591, 592,\n",
       "       593, 594, 595, 596, 597, 598, 599, 600, 601, 602, 603, 604, 605,\n",
       "       606, 607, 608, 609, 610, 611, 612, 613, 614, 615, 616, 617, 618,\n",
       "       619, 620, 621, 622, 623, 624, 625, 626, 627, 628, 629, 630, 631,\n",
       "       632, 633, 634, 635, 636, 637, 638, 639, 640, 641, 642, 643, 644,\n",
       "       645, 646, 647, 648, 649, 650, 651, 652, 653, 654, 655, 656, 657,\n",
       "       658, 659, 660, 661, 662, 663, 664, 665, 666, 667, 668, 669, 670,\n",
       "       671, 672, 673, 674, 675, 676, 677, 678, 679, 680, 681, 682, 683,\n",
       "       684, 685, 686, 687, 688, 689, 690, 691, 692, 693, 694, 695, 696,\n",
       "       697, 698, 699, 700, 701, 702, 703, 704, 705, 706, 707, 708, 709,\n",
       "       710, 711, 712, 713, 714, 715, 716, 717, 718, 719, 720, 721, 722,\n",
       "       723, 724, 725, 726, 727, 728, 729, 730, 731, 732, 733, 734, 735,\n",
       "       736, 737, 738, 739, 740, 741, 742, 743, 744, 745, 746, 747, 748,\n",
       "       749, 750, 751, 752, 753, 754, 755, 756, 757, 758, 759, 760, 761,\n",
       "       762, 763, 764, 765, 766, 767, 768, 769, 770, 771, 772, 773, 774,\n",
       "       775, 776, 777, 778, 779, 780, 781, 782, 783, 784, 785, 786, 787,\n",
       "       788, 789, 790, 791, 792, 793, 794, 795, 796, 797, 798, 799, 800,\n",
       "       801, 802, 803, 804, 805, 806, 807, 808, 809, 810, 811, 812, 813,\n",
       "       814, 815, 816, 817, 818, 819, 820, 821, 822, 823, 824, 825, 826,\n",
       "       827, 828, 829, 830, 831, 832, 833, 834, 835, 836, 837, 838, 839,\n",
       "       840, 841, 842, 843, 844, 845, 846, 847, 848, 849, 850, 851, 852,\n",
       "       853, 854, 855, 856, 857, 858, 859, 860, 861, 862, 863, 864, 865,\n",
       "       866, 867, 868, 869, 870, 871, 872, 873, 874, 875, 876, 877, 878,\n",
       "       879, 880, 881, 882, 883, 884, 885, 886, 887, 888, 889, 890, 891,\n",
       "       892, 893, 894, 895, 896, 897, 898, 899, 900, 901, 902, 903, 904,\n",
       "       905, 906, 907, 908, 909, 910, 911, 912, 913, 914, 915, 916, 917,\n",
       "       918, 919, 920, 921, 922, 923, 924, 925, 926, 927, 928, 929, 930,\n",
       "       931, 932, 933, 934, 935, 936, 937, 938, 939, 940, 941, 942, 943,\n",
       "       944, 945, 946, 947, 948, 949, 950, 951, 952, 953, 954, 955, 956,\n",
       "       957, 958, 959, 960, 961, 962, 963, 964, 965, 966, 967, 968, 969,\n",
       "       970, 971, 972, 973, 974, 975, 976, 977, 978, 979, 980, 981, 982,\n",
       "       983, 984, 985, 986, 987, 988, 989, 990, 991, 992, 993, 994, 995,\n",
       "       996, 997, 998, 999])"
      ]
     },
     "execution_count": 81,
     "metadata": {},
     "output_type": "execute_result"
    }
   ],
   "source": [
    "+15"
   ]
  },
  {
   "cell_type": "code",
   "execution_count": 58,
   "metadata": {},
   "outputs": [
    {
     "data": {
      "text/plain": [
       "(487, 512, 180)"
      ]
     },
     "execution_count": 58,
     "metadata": {},
     "output_type": "execute_result"
    }
   ],
   "source": [
    "final_data.values[idx]..shape"
   ]
  },
  {
   "cell_type": "code",
   "execution_count": 55,
   "metadata": {},
   "outputs": [
    {
     "data": {
      "text/plain": [
       "(487, 512, 180)"
      ]
     },
     "execution_count": 55,
     "metadata": {},
     "output_type": "execute_result"
    }
   ],
   "source": [
    "final_data.values[idx].shape"
   ]
  },
  {
   "cell_type": "code",
   "execution_count": null,
   "metadata": {},
   "outputs": [],
   "source": []
  },
  {
   "cell_type": "code",
   "execution_count": 82,
   "metadata": {},
   "outputs": [
    {
     "data": {
      "text/html": [
       "<div>\n",
       "<style scoped>\n",
       "    .dataframe tbody tr th:only-of-type {\n",
       "        vertical-align: middle;\n",
       "    }\n",
       "\n",
       "    .dataframe tbody tr th {\n",
       "        vertical-align: top;\n",
       "    }\n",
       "\n",
       "    .dataframe thead th {\n",
       "        text-align: right;\n",
       "    }\n",
       "</style>\n",
       "<table border=\"1\" class=\"dataframe\">\n",
       "  <thead>\n",
       "    <tr style=\"text-align: right;\">\n",
       "      <th></th>\n",
       "      <th>close_DOGEUSDT</th>\n",
       "      <th>close_AVAXUSDT</th>\n",
       "      <th>close_SOLUSDT</th>\n",
       "      <th>close_SHIBUSDT</th>\n",
       "      <th>close_EURUSDT</th>\n",
       "      <th>close_GBPUSDT</th>\n",
       "      <th>close_ETCETH</th>\n",
       "      <th>close_ETCBTC</th>\n",
       "      <th>close_MKRUSDT</th>\n",
       "      <th>close_MKRBTC</th>\n",
       "      <th>close_IOTAUSDT</th>\n",
       "      <th>close_ADAUSDT</th>\n",
       "      <th>close_XLMUSDT</th>\n",
       "      <th>close_TRXUSDT</th>\n",
       "      <th>close_XMRUSDT</th>\n",
       "      <th>close_EOSUSDT</th>\n",
       "      <th>close_DOGEGBP</th>\n",
       "      <th>close_BTCEUR</th>\n",
       "      <th>close_BTCGBP</th>\n",
       "      <th>close_BTCUSDT</th>\n",
       "    </tr>\n",
       "  </thead>\n",
       "  <tbody>\n",
       "    <tr>\n",
       "      <th>513</th>\n",
       "      <td>0.658972</td>\n",
       "      <td>2.711890</td>\n",
       "      <td>1.992090</td>\n",
       "      <td>1.034568</td>\n",
       "      <td>-0.545294</td>\n",
       "      <td>-0.374677</td>\n",
       "      <td>-0.927297</td>\n",
       "      <td>-0.074611</td>\n",
       "      <td>0.533072</td>\n",
       "      <td>-0.041066</td>\n",
       "      <td>1.167096</td>\n",
       "      <td>0.929188</td>\n",
       "      <td>0.474671</td>\n",
       "      <td>0.855213</td>\n",
       "      <td>0.688077</td>\n",
       "      <td>-0.218173</td>\n",
       "      <td>-0.257058</td>\n",
       "      <td>1.227304</td>\n",
       "      <td>0.946174</td>\n",
       "      <td>1.126792</td>\n",
       "    </tr>\n",
       "    <tr>\n",
       "      <th>514</th>\n",
       "      <td>0.659713</td>\n",
       "      <td>2.716069</td>\n",
       "      <td>1.994153</td>\n",
       "      <td>1.035691</td>\n",
       "      <td>-0.545294</td>\n",
       "      <td>-0.396890</td>\n",
       "      <td>-0.927297</td>\n",
       "      <td>-0.070078</td>\n",
       "      <td>0.535471</td>\n",
       "      <td>-0.041066</td>\n",
       "      <td>1.169185</td>\n",
       "      <td>0.933993</td>\n",
       "      <td>0.477780</td>\n",
       "      <td>0.855213</td>\n",
       "      <td>0.689116</td>\n",
       "      <td>-0.215487</td>\n",
       "      <td>-0.255852</td>\n",
       "      <td>1.228411</td>\n",
       "      <td>0.947360</td>\n",
       "      <td>1.128104</td>\n",
       "    </tr>\n",
       "    <tr>\n",
       "      <th>515</th>\n",
       "      <td>0.658972</td>\n",
       "      <td>2.713498</td>\n",
       "      <td>1.994566</td>\n",
       "      <td>1.035129</td>\n",
       "      <td>-0.545294</td>\n",
       "      <td>-0.396890</td>\n",
       "      <td>-0.927297</td>\n",
       "      <td>-0.070078</td>\n",
       "      <td>0.537870</td>\n",
       "      <td>-0.031666</td>\n",
       "      <td>1.169881</td>\n",
       "      <td>0.933993</td>\n",
       "      <td>0.477780</td>\n",
       "      <td>0.856305</td>\n",
       "      <td>0.688077</td>\n",
       "      <td>-0.217501</td>\n",
       "      <td>-0.255852</td>\n",
       "      <td>1.229234</td>\n",
       "      <td>0.947393</td>\n",
       "      <td>1.128508</td>\n",
       "    </tr>\n",
       "    <tr>\n",
       "      <th>516</th>\n",
       "      <td>0.660454</td>\n",
       "      <td>2.713176</td>\n",
       "      <td>1.994566</td>\n",
       "      <td>1.034006</td>\n",
       "      <td>-0.545294</td>\n",
       "      <td>-0.396890</td>\n",
       "      <td>-0.927297</td>\n",
       "      <td>-0.067811</td>\n",
       "      <td>0.540269</td>\n",
       "      <td>-0.033755</td>\n",
       "      <td>1.168837</td>\n",
       "      <td>0.933993</td>\n",
       "      <td>0.480266</td>\n",
       "      <td>0.857669</td>\n",
       "      <td>0.679763</td>\n",
       "      <td>-0.217501</td>\n",
       "      <td>-0.255852</td>\n",
       "      <td>1.229926</td>\n",
       "      <td>0.947905</td>\n",
       "      <td>1.129309</td>\n",
       "    </tr>\n",
       "    <tr>\n",
       "      <th>517</th>\n",
       "      <td>0.660454</td>\n",
       "      <td>2.714462</td>\n",
       "      <td>1.996354</td>\n",
       "      <td>1.032322</td>\n",
       "      <td>-0.545294</td>\n",
       "      <td>-0.396890</td>\n",
       "      <td>-0.927297</td>\n",
       "      <td>-0.072344</td>\n",
       "      <td>0.540269</td>\n",
       "      <td>-0.031143</td>\n",
       "      <td>1.170578</td>\n",
       "      <td>0.933993</td>\n",
       "      <td>0.481510</td>\n",
       "      <td>0.857669</td>\n",
       "      <td>0.679763</td>\n",
       "      <td>-0.215487</td>\n",
       "      <td>-0.255852</td>\n",
       "      <td>1.230770</td>\n",
       "      <td>0.948672</td>\n",
       "      <td>1.129984</td>\n",
       "    </tr>\n",
       "    <tr>\n",
       "      <th>...</th>\n",
       "      <td>...</td>\n",
       "      <td>...</td>\n",
       "      <td>...</td>\n",
       "      <td>...</td>\n",
       "      <td>...</td>\n",
       "      <td>...</td>\n",
       "      <td>...</td>\n",
       "      <td>...</td>\n",
       "      <td>...</td>\n",
       "      <td>...</td>\n",
       "      <td>...</td>\n",
       "      <td>...</td>\n",
       "      <td>...</td>\n",
       "      <td>...</td>\n",
       "      <td>...</td>\n",
       "      <td>...</td>\n",
       "      <td>...</td>\n",
       "      <td>...</td>\n",
       "      <td>...</td>\n",
       "      <td>...</td>\n",
       "    </tr>\n",
       "    <tr>\n",
       "      <th>980</th>\n",
       "      <td>0.644892</td>\n",
       "      <td>2.696461</td>\n",
       "      <td>1.969120</td>\n",
       "      <td>1.058713</td>\n",
       "      <td>-0.522660</td>\n",
       "      <td>-0.330247</td>\n",
       "      <td>-0.934001</td>\n",
       "      <td>-0.083678</td>\n",
       "      <td>0.517078</td>\n",
       "      <td>-0.053078</td>\n",
       "      <td>1.177890</td>\n",
       "      <td>0.906363</td>\n",
       "      <td>0.503272</td>\n",
       "      <td>0.870226</td>\n",
       "      <td>0.660016</td>\n",
       "      <td>-0.222873</td>\n",
       "      <td>-0.277570</td>\n",
       "      <td>1.218588</td>\n",
       "      <td>0.929876</td>\n",
       "      <td>1.122110</td>\n",
       "    </tr>\n",
       "    <tr>\n",
       "      <th>981</th>\n",
       "      <td>0.644892</td>\n",
       "      <td>2.697104</td>\n",
       "      <td>1.964718</td>\n",
       "      <td>1.059837</td>\n",
       "      <td>-0.545294</td>\n",
       "      <td>-0.330247</td>\n",
       "      <td>-0.934001</td>\n",
       "      <td>-0.083678</td>\n",
       "      <td>0.517878</td>\n",
       "      <td>-0.053078</td>\n",
       "      <td>1.175801</td>\n",
       "      <td>0.906363</td>\n",
       "      <td>0.503272</td>\n",
       "      <td>0.869953</td>\n",
       "      <td>0.658977</td>\n",
       "      <td>-0.223545</td>\n",
       "      <td>-0.275157</td>\n",
       "      <td>1.218701</td>\n",
       "      <td>0.932631</td>\n",
       "      <td>1.121537</td>\n",
       "    </tr>\n",
       "    <tr>\n",
       "      <th>982</th>\n",
       "      <td>0.646374</td>\n",
       "      <td>2.695818</td>\n",
       "      <td>1.966231</td>\n",
       "      <td>1.060398</td>\n",
       "      <td>-0.545294</td>\n",
       "      <td>-0.330247</td>\n",
       "      <td>-0.933163</td>\n",
       "      <td>-0.083678</td>\n",
       "      <td>0.517878</td>\n",
       "      <td>-0.053078</td>\n",
       "      <td>1.177716</td>\n",
       "      <td>0.907565</td>\n",
       "      <td>0.505137</td>\n",
       "      <td>0.870772</td>\n",
       "      <td>0.660016</td>\n",
       "      <td>-0.222873</td>\n",
       "      <td>-0.275157</td>\n",
       "      <td>1.219651</td>\n",
       "      <td>0.932644</td>\n",
       "      <td>1.122849</td>\n",
       "    </tr>\n",
       "    <tr>\n",
       "      <th>983</th>\n",
       "      <td>0.647115</td>\n",
       "      <td>2.698069</td>\n",
       "      <td>1.965131</td>\n",
       "      <td>1.058713</td>\n",
       "      <td>-0.522660</td>\n",
       "      <td>-0.308031</td>\n",
       "      <td>-0.933163</td>\n",
       "      <td>-0.083678</td>\n",
       "      <td>0.517878</td>\n",
       "      <td>-0.055689</td>\n",
       "      <td>1.176671</td>\n",
       "      <td>0.908766</td>\n",
       "      <td>0.505759</td>\n",
       "      <td>0.871591</td>\n",
       "      <td>0.660016</td>\n",
       "      <td>-0.222202</td>\n",
       "      <td>-0.275157</td>\n",
       "      <td>1.220246</td>\n",
       "      <td>0.934519</td>\n",
       "      <td>1.123383</td>\n",
       "    </tr>\n",
       "    <tr>\n",
       "      <th>984</th>\n",
       "      <td>0.647115</td>\n",
       "      <td>2.698390</td>\n",
       "      <td>1.968982</td>\n",
       "      <td>1.058152</td>\n",
       "      <td>-0.522660</td>\n",
       "      <td>-0.308031</td>\n",
       "      <td>-0.932325</td>\n",
       "      <td>-0.081411</td>\n",
       "      <td>0.517878</td>\n",
       "      <td>-0.052556</td>\n",
       "      <td>1.179283</td>\n",
       "      <td>0.909967</td>\n",
       "      <td>0.505759</td>\n",
       "      <td>0.871864</td>\n",
       "      <td>0.660016</td>\n",
       "      <td>-0.222873</td>\n",
       "      <td>-0.272744</td>\n",
       "      <td>1.220739</td>\n",
       "      <td>0.934769</td>\n",
       "      <td>1.124017</td>\n",
       "    </tr>\n",
       "  </tbody>\n",
       "</table>\n",
       "<p>472 rows × 20 columns</p>\n",
       "</div>"
      ],
      "text/plain": [
       "     close_DOGEUSDT  close_AVAXUSDT  close_SOLUSDT  close_SHIBUSDT  \\\n",
       "513        0.658972        2.711890       1.992090        1.034568   \n",
       "514        0.659713        2.716069       1.994153        1.035691   \n",
       "515        0.658972        2.713498       1.994566        1.035129   \n",
       "516        0.660454        2.713176       1.994566        1.034006   \n",
       "517        0.660454        2.714462       1.996354        1.032322   \n",
       "..              ...             ...            ...             ...   \n",
       "980        0.644892        2.696461       1.969120        1.058713   \n",
       "981        0.644892        2.697104       1.964718        1.059837   \n",
       "982        0.646374        2.695818       1.966231        1.060398   \n",
       "983        0.647115        2.698069       1.965131        1.058713   \n",
       "984        0.647115        2.698390       1.968982        1.058152   \n",
       "\n",
       "     close_EURUSDT  close_GBPUSDT  close_ETCETH  close_ETCBTC  close_MKRUSDT  \\\n",
       "513      -0.545294      -0.374677     -0.927297     -0.074611       0.533072   \n",
       "514      -0.545294      -0.396890     -0.927297     -0.070078       0.535471   \n",
       "515      -0.545294      -0.396890     -0.927297     -0.070078       0.537870   \n",
       "516      -0.545294      -0.396890     -0.927297     -0.067811       0.540269   \n",
       "517      -0.545294      -0.396890     -0.927297     -0.072344       0.540269   \n",
       "..             ...            ...           ...           ...            ...   \n",
       "980      -0.522660      -0.330247     -0.934001     -0.083678       0.517078   \n",
       "981      -0.545294      -0.330247     -0.934001     -0.083678       0.517878   \n",
       "982      -0.545294      -0.330247     -0.933163     -0.083678       0.517878   \n",
       "983      -0.522660      -0.308031     -0.933163     -0.083678       0.517878   \n",
       "984      -0.522660      -0.308031     -0.932325     -0.081411       0.517878   \n",
       "\n",
       "     close_MKRBTC  close_IOTAUSDT  close_ADAUSDT  close_XLMUSDT  \\\n",
       "513     -0.041066        1.167096       0.929188       0.474671   \n",
       "514     -0.041066        1.169185       0.933993       0.477780   \n",
       "515     -0.031666        1.169881       0.933993       0.477780   \n",
       "516     -0.033755        1.168837       0.933993       0.480266   \n",
       "517     -0.031143        1.170578       0.933993       0.481510   \n",
       "..            ...             ...            ...            ...   \n",
       "980     -0.053078        1.177890       0.906363       0.503272   \n",
       "981     -0.053078        1.175801       0.906363       0.503272   \n",
       "982     -0.053078        1.177716       0.907565       0.505137   \n",
       "983     -0.055689        1.176671       0.908766       0.505759   \n",
       "984     -0.052556        1.179283       0.909967       0.505759   \n",
       "\n",
       "     close_TRXUSDT  close_XMRUSDT  close_EOSUSDT  close_DOGEGBP  close_BTCEUR  \\\n",
       "513       0.855213       0.688077      -0.218173      -0.257058      1.227304   \n",
       "514       0.855213       0.689116      -0.215487      -0.255852      1.228411   \n",
       "515       0.856305       0.688077      -0.217501      -0.255852      1.229234   \n",
       "516       0.857669       0.679763      -0.217501      -0.255852      1.229926   \n",
       "517       0.857669       0.679763      -0.215487      -0.255852      1.230770   \n",
       "..             ...            ...            ...            ...           ...   \n",
       "980       0.870226       0.660016      -0.222873      -0.277570      1.218588   \n",
       "981       0.869953       0.658977      -0.223545      -0.275157      1.218701   \n",
       "982       0.870772       0.660016      -0.222873      -0.275157      1.219651   \n",
       "983       0.871591       0.660016      -0.222202      -0.275157      1.220246   \n",
       "984       0.871864       0.660016      -0.222873      -0.272744      1.220739   \n",
       "\n",
       "     close_BTCGBP  close_BTCUSDT  \n",
       "513      0.946174       1.126792  \n",
       "514      0.947360       1.128104  \n",
       "515      0.947393       1.128508  \n",
       "516      0.947905       1.129309  \n",
       "517      0.948672       1.129984  \n",
       "..            ...            ...  \n",
       "980      0.929876       1.122110  \n",
       "981      0.932631       1.121537  \n",
       "982      0.932644       1.122849  \n",
       "983      0.934519       1.123383  \n",
       "984      0.934769       1.124017  \n",
       "\n",
       "[472 rows x 20 columns]"
      ]
     },
     "execution_count": 82,
     "metadata": {},
     "output_type": "execute_result"
    }
   ],
   "source": [
    "final_data[['close_'+x for x in cfg['models']['resnet']['symbols']]].iloc[idx[:,-1]]"
   ]
  },
  {
   "cell_type": "code",
   "execution_count": 94,
   "metadata": {},
   "outputs": [],
   "source": [
    "prev_price = final_data[['close_'+x for x in cfg['models']['resnet']['symbols']]].iloc[idx[:,-1]]\n",
    "cur_price = final_data[['close_'+x for x in cfg['models']['resnet']['symbols']]].iloc[idx[:,-1]+15]"
   ]
  },
  {
   "cell_type": "code",
   "execution_count": 99,
   "metadata": {},
   "outputs": [
    {
     "data": {
      "text/plain": [
       "(472, 20)"
      ]
     },
     "execution_count": 99,
     "metadata": {},
     "output_type": "execute_result"
    }
   ],
   "source": [
    "((cur_price.values / prev_price.values) - 1).shape"
   ]
  },
  {
   "cell_type": "code",
   "execution_count": 102,
   "metadata": {},
   "outputs": [
    {
     "data": {
      "text/plain": [
       "(472, 180, 512)"
      ]
     },
     "execution_count": 102,
     "metadata": {},
     "output_type": "execute_result"
    }
   ],
   "source": [
    "final_data.values[idx].swapaxes(1, 2).astype(np.float32).shape"
   ]
  },
  {
   "cell_type": "code",
   "execution_count": 96,
   "metadata": {},
   "outputs": [
    {
     "data": {
      "text/html": [
       "<div>\n",
       "<style scoped>\n",
       "    .dataframe tbody tr th:only-of-type {\n",
       "        vertical-align: middle;\n",
       "    }\n",
       "\n",
       "    .dataframe tbody tr th {\n",
       "        vertical-align: top;\n",
       "    }\n",
       "\n",
       "    .dataframe thead th {\n",
       "        text-align: right;\n",
       "    }\n",
       "</style>\n",
       "<table border=\"1\" class=\"dataframe\">\n",
       "  <thead>\n",
       "    <tr style=\"text-align: right;\">\n",
       "      <th></th>\n",
       "      <th>close_DOGEUSDT</th>\n",
       "      <th>close_AVAXUSDT</th>\n",
       "      <th>close_SOLUSDT</th>\n",
       "      <th>close_SHIBUSDT</th>\n",
       "      <th>close_EURUSDT</th>\n",
       "      <th>close_GBPUSDT</th>\n",
       "      <th>close_ETCETH</th>\n",
       "      <th>close_ETCBTC</th>\n",
       "      <th>close_MKRUSDT</th>\n",
       "      <th>close_MKRBTC</th>\n",
       "      <th>close_IOTAUSDT</th>\n",
       "      <th>close_ADAUSDT</th>\n",
       "      <th>close_XLMUSDT</th>\n",
       "      <th>close_TRXUSDT</th>\n",
       "      <th>close_XMRUSDT</th>\n",
       "      <th>close_EOSUSDT</th>\n",
       "      <th>close_DOGEGBP</th>\n",
       "      <th>close_BTCEUR</th>\n",
       "      <th>close_BTCGBP</th>\n",
       "      <th>close_BTCUSDT</th>\n",
       "    </tr>\n",
       "  </thead>\n",
       "  <tbody>\n",
       "    <tr>\n",
       "      <th>528</th>\n",
       "      <td>0.654526</td>\n",
       "      <td>2.698069</td>\n",
       "      <td>1.988927</td>\n",
       "      <td>1.034006</td>\n",
       "      <td>-0.567929</td>\n",
       "      <td>-0.396890</td>\n",
       "      <td>-0.925620</td>\n",
       "      <td>-0.067811</td>\n",
       "      <td>0.533871</td>\n",
       "      <td>-0.033232</td>\n",
       "      <td>1.160132</td>\n",
       "      <td>0.924383</td>\n",
       "      <td>0.476536</td>\n",
       "      <td>0.855759</td>\n",
       "      <td>0.677684</td>\n",
       "      <td>-0.222202</td>\n",
       "      <td>-0.259471</td>\n",
       "      <td>1.222070</td>\n",
       "      <td>0.939613</td>\n",
       "      <td>1.121841</td>\n",
       "    </tr>\n",
       "    <tr>\n",
       "      <th>529</th>\n",
       "      <td>0.655267</td>\n",
       "      <td>2.699354</td>\n",
       "      <td>1.990577</td>\n",
       "      <td>1.036814</td>\n",
       "      <td>-0.567929</td>\n",
       "      <td>-0.374677</td>\n",
       "      <td>-0.925620</td>\n",
       "      <td>-0.067811</td>\n",
       "      <td>0.534671</td>\n",
       "      <td>-0.032188</td>\n",
       "      <td>1.161002</td>\n",
       "      <td>0.929188</td>\n",
       "      <td>0.476536</td>\n",
       "      <td>0.856032</td>\n",
       "      <td>0.678724</td>\n",
       "      <td>-0.220187</td>\n",
       "      <td>-0.260678</td>\n",
       "      <td>1.224053</td>\n",
       "      <td>0.941042</td>\n",
       "      <td>1.123159</td>\n",
       "    </tr>\n",
       "    <tr>\n",
       "      <th>530</th>\n",
       "      <td>0.656008</td>\n",
       "      <td>2.704176</td>\n",
       "      <td>1.992228</td>\n",
       "      <td>1.039060</td>\n",
       "      <td>-0.567929</td>\n",
       "      <td>-0.374677</td>\n",
       "      <td>-0.925620</td>\n",
       "      <td>-0.067811</td>\n",
       "      <td>0.536270</td>\n",
       "      <td>-0.032188</td>\n",
       "      <td>1.163440</td>\n",
       "      <td>0.929188</td>\n",
       "      <td>0.477158</td>\n",
       "      <td>0.857123</td>\n",
       "      <td>0.678724</td>\n",
       "      <td>-0.220859</td>\n",
       "      <td>-0.258265</td>\n",
       "      <td>1.225915</td>\n",
       "      <td>0.940673</td>\n",
       "      <td>1.125326</td>\n",
       "    </tr>\n",
       "    <tr>\n",
       "      <th>531</th>\n",
       "      <td>0.656008</td>\n",
       "      <td>2.703212</td>\n",
       "      <td>1.991128</td>\n",
       "      <td>1.035691</td>\n",
       "      <td>-0.567929</td>\n",
       "      <td>-0.352460</td>\n",
       "      <td>-0.926459</td>\n",
       "      <td>-0.070078</td>\n",
       "      <td>0.537070</td>\n",
       "      <td>-0.030621</td>\n",
       "      <td>1.164658</td>\n",
       "      <td>0.929188</td>\n",
       "      <td>0.477158</td>\n",
       "      <td>0.857397</td>\n",
       "      <td>0.692234</td>\n",
       "      <td>-0.221530</td>\n",
       "      <td>-0.258265</td>\n",
       "      <td>1.224341</td>\n",
       "      <td>0.940531</td>\n",
       "      <td>1.124042</td>\n",
       "    </tr>\n",
       "    <tr>\n",
       "      <th>532</th>\n",
       "      <td>0.656749</td>\n",
       "      <td>2.700640</td>\n",
       "      <td>1.990990</td>\n",
       "      <td>1.035129</td>\n",
       "      <td>-0.545294</td>\n",
       "      <td>-0.374677</td>\n",
       "      <td>-0.925620</td>\n",
       "      <td>-0.067811</td>\n",
       "      <td>0.536270</td>\n",
       "      <td>-0.030621</td>\n",
       "      <td>1.162047</td>\n",
       "      <td>0.929188</td>\n",
       "      <td>0.478401</td>\n",
       "      <td>0.857397</td>\n",
       "      <td>0.695352</td>\n",
       "      <td>-0.220859</td>\n",
       "      <td>-0.258265</td>\n",
       "      <td>1.224774</td>\n",
       "      <td>0.942032</td>\n",
       "      <td>1.123704</td>\n",
       "    </tr>\n",
       "    <tr>\n",
       "      <th>...</th>\n",
       "      <td>...</td>\n",
       "      <td>...</td>\n",
       "      <td>...</td>\n",
       "      <td>...</td>\n",
       "      <td>...</td>\n",
       "      <td>...</td>\n",
       "      <td>...</td>\n",
       "      <td>...</td>\n",
       "      <td>...</td>\n",
       "      <td>...</td>\n",
       "      <td>...</td>\n",
       "      <td>...</td>\n",
       "      <td>...</td>\n",
       "      <td>...</td>\n",
       "      <td>...</td>\n",
       "      <td>...</td>\n",
       "      <td>...</td>\n",
       "      <td>...</td>\n",
       "      <td>...</td>\n",
       "      <td>...</td>\n",
       "    </tr>\n",
       "    <tr>\n",
       "      <th>995</th>\n",
       "      <td>0.651562</td>\n",
       "      <td>2.716391</td>\n",
       "      <td>1.976135</td>\n",
       "      <td>1.069944</td>\n",
       "      <td>-0.545294</td>\n",
       "      <td>-0.308031</td>\n",
       "      <td>-0.933163</td>\n",
       "      <td>-0.081411</td>\n",
       "      <td>0.522676</td>\n",
       "      <td>-0.060390</td>\n",
       "      <td>1.184157</td>\n",
       "      <td>0.912370</td>\n",
       "      <td>0.511977</td>\n",
       "      <td>0.876778</td>\n",
       "      <td>0.662095</td>\n",
       "      <td>-0.214144</td>\n",
       "      <td>-0.270331</td>\n",
       "      <td>1.230429</td>\n",
       "      <td>0.944071</td>\n",
       "      <td>1.132874</td>\n",
       "    </tr>\n",
       "    <tr>\n",
       "      <th>996</th>\n",
       "      <td>0.650079</td>\n",
       "      <td>2.720248</td>\n",
       "      <td>1.971321</td>\n",
       "      <td>1.071067</td>\n",
       "      <td>-0.545294</td>\n",
       "      <td>-0.330247</td>\n",
       "      <td>-0.931487</td>\n",
       "      <td>-0.081411</td>\n",
       "      <td>0.521876</td>\n",
       "      <td>-0.060390</td>\n",
       "      <td>1.186595</td>\n",
       "      <td>0.909967</td>\n",
       "      <td>0.509490</td>\n",
       "      <td>0.875140</td>\n",
       "      <td>0.662095</td>\n",
       "      <td>-0.216830</td>\n",
       "      <td>-0.270331</td>\n",
       "      <td>1.229380</td>\n",
       "      <td>0.944071</td>\n",
       "      <td>1.131846</td>\n",
       "    </tr>\n",
       "    <tr>\n",
       "      <th>997</th>\n",
       "      <td>0.650079</td>\n",
       "      <td>2.724105</td>\n",
       "      <td>1.974071</td>\n",
       "      <td>1.071067</td>\n",
       "      <td>-0.545294</td>\n",
       "      <td>-0.308031</td>\n",
       "      <td>-0.931487</td>\n",
       "      <td>-0.081411</td>\n",
       "      <td>0.520277</td>\n",
       "      <td>-0.064046</td>\n",
       "      <td>1.187465</td>\n",
       "      <td>0.909967</td>\n",
       "      <td>0.510733</td>\n",
       "      <td>0.875686</td>\n",
       "      <td>0.663134</td>\n",
       "      <td>-0.215487</td>\n",
       "      <td>-0.270331</td>\n",
       "      <td>1.232048</td>\n",
       "      <td>0.946684</td>\n",
       "      <td>1.133937</td>\n",
       "    </tr>\n",
       "    <tr>\n",
       "      <th>998</th>\n",
       "      <td>0.650821</td>\n",
       "      <td>2.725391</td>\n",
       "      <td>1.976410</td>\n",
       "      <td>1.072190</td>\n",
       "      <td>-0.545294</td>\n",
       "      <td>-0.330247</td>\n",
       "      <td>-0.932325</td>\n",
       "      <td>-0.081411</td>\n",
       "      <td>0.522676</td>\n",
       "      <td>-0.064046</td>\n",
       "      <td>1.187987</td>\n",
       "      <td>0.909967</td>\n",
       "      <td>0.512599</td>\n",
       "      <td>0.875686</td>\n",
       "      <td>0.660016</td>\n",
       "      <td>-0.214144</td>\n",
       "      <td>-0.270331</td>\n",
       "      <td>1.232196</td>\n",
       "      <td>0.945869</td>\n",
       "      <td>1.134475</td>\n",
       "    </tr>\n",
       "    <tr>\n",
       "      <th>999</th>\n",
       "      <td>0.650821</td>\n",
       "      <td>2.723784</td>\n",
       "      <td>1.976547</td>\n",
       "      <td>1.070506</td>\n",
       "      <td>-0.545294</td>\n",
       "      <td>-0.308031</td>\n",
       "      <td>-0.932325</td>\n",
       "      <td>-0.081411</td>\n",
       "      <td>0.522676</td>\n",
       "      <td>-0.064046</td>\n",
       "      <td>1.186246</td>\n",
       "      <td>0.909967</td>\n",
       "      <td>0.510733</td>\n",
       "      <td>0.875140</td>\n",
       "      <td>0.661056</td>\n",
       "      <td>-0.215487</td>\n",
       "      <td>-0.270331</td>\n",
       "      <td>1.231311</td>\n",
       "      <td>0.945631</td>\n",
       "      <td>1.133591</td>\n",
       "    </tr>\n",
       "  </tbody>\n",
       "</table>\n",
       "<p>472 rows × 20 columns</p>\n",
       "</div>"
      ],
      "text/plain": [
       "     close_DOGEUSDT  close_AVAXUSDT  close_SOLUSDT  close_SHIBUSDT  \\\n",
       "528        0.654526        2.698069       1.988927        1.034006   \n",
       "529        0.655267        2.699354       1.990577        1.036814   \n",
       "530        0.656008        2.704176       1.992228        1.039060   \n",
       "531        0.656008        2.703212       1.991128        1.035691   \n",
       "532        0.656749        2.700640       1.990990        1.035129   \n",
       "..              ...             ...            ...             ...   \n",
       "995        0.651562        2.716391       1.976135        1.069944   \n",
       "996        0.650079        2.720248       1.971321        1.071067   \n",
       "997        0.650079        2.724105       1.974071        1.071067   \n",
       "998        0.650821        2.725391       1.976410        1.072190   \n",
       "999        0.650821        2.723784       1.976547        1.070506   \n",
       "\n",
       "     close_EURUSDT  close_GBPUSDT  close_ETCETH  close_ETCBTC  close_MKRUSDT  \\\n",
       "528      -0.567929      -0.396890     -0.925620     -0.067811       0.533871   \n",
       "529      -0.567929      -0.374677     -0.925620     -0.067811       0.534671   \n",
       "530      -0.567929      -0.374677     -0.925620     -0.067811       0.536270   \n",
       "531      -0.567929      -0.352460     -0.926459     -0.070078       0.537070   \n",
       "532      -0.545294      -0.374677     -0.925620     -0.067811       0.536270   \n",
       "..             ...            ...           ...           ...            ...   \n",
       "995      -0.545294      -0.308031     -0.933163     -0.081411       0.522676   \n",
       "996      -0.545294      -0.330247     -0.931487     -0.081411       0.521876   \n",
       "997      -0.545294      -0.308031     -0.931487     -0.081411       0.520277   \n",
       "998      -0.545294      -0.330247     -0.932325     -0.081411       0.522676   \n",
       "999      -0.545294      -0.308031     -0.932325     -0.081411       0.522676   \n",
       "\n",
       "     close_MKRBTC  close_IOTAUSDT  close_ADAUSDT  close_XLMUSDT  \\\n",
       "528     -0.033232        1.160132       0.924383       0.476536   \n",
       "529     -0.032188        1.161002       0.929188       0.476536   \n",
       "530     -0.032188        1.163440       0.929188       0.477158   \n",
       "531     -0.030621        1.164658       0.929188       0.477158   \n",
       "532     -0.030621        1.162047       0.929188       0.478401   \n",
       "..            ...             ...            ...            ...   \n",
       "995     -0.060390        1.184157       0.912370       0.511977   \n",
       "996     -0.060390        1.186595       0.909967       0.509490   \n",
       "997     -0.064046        1.187465       0.909967       0.510733   \n",
       "998     -0.064046        1.187987       0.909967       0.512599   \n",
       "999     -0.064046        1.186246       0.909967       0.510733   \n",
       "\n",
       "     close_TRXUSDT  close_XMRUSDT  close_EOSUSDT  close_DOGEGBP  close_BTCEUR  \\\n",
       "528       0.855759       0.677684      -0.222202      -0.259471      1.222070   \n",
       "529       0.856032       0.678724      -0.220187      -0.260678      1.224053   \n",
       "530       0.857123       0.678724      -0.220859      -0.258265      1.225915   \n",
       "531       0.857397       0.692234      -0.221530      -0.258265      1.224341   \n",
       "532       0.857397       0.695352      -0.220859      -0.258265      1.224774   \n",
       "..             ...            ...            ...            ...           ...   \n",
       "995       0.876778       0.662095      -0.214144      -0.270331      1.230429   \n",
       "996       0.875140       0.662095      -0.216830      -0.270331      1.229380   \n",
       "997       0.875686       0.663134      -0.215487      -0.270331      1.232048   \n",
       "998       0.875686       0.660016      -0.214144      -0.270331      1.232196   \n",
       "999       0.875140       0.661056      -0.215487      -0.270331      1.231311   \n",
       "\n",
       "     close_BTCGBP  close_BTCUSDT  \n",
       "528      0.939613       1.121841  \n",
       "529      0.941042       1.123159  \n",
       "530      0.940673       1.125326  \n",
       "531      0.940531       1.124042  \n",
       "532      0.942032       1.123704  \n",
       "..            ...            ...  \n",
       "995      0.944071       1.132874  \n",
       "996      0.944071       1.131846  \n",
       "997      0.946684       1.133937  \n",
       "998      0.945869       1.134475  \n",
       "999      0.945631       1.133591  \n",
       "\n",
       "[472 rows x 20 columns]"
      ]
     },
     "execution_count": 96,
     "metadata": {},
     "output_type": "execute_result"
    }
   ],
   "source": [
    "cur_price"
   ]
  },
  {
   "cell_type": "code",
   "execution_count": 97,
   "metadata": {},
   "outputs": [
    {
     "data": {
      "text/html": [
       "<div>\n",
       "<style scoped>\n",
       "    .dataframe tbody tr th:only-of-type {\n",
       "        vertical-align: middle;\n",
       "    }\n",
       "\n",
       "    .dataframe tbody tr th {\n",
       "        vertical-align: top;\n",
       "    }\n",
       "\n",
       "    .dataframe thead th {\n",
       "        text-align: right;\n",
       "    }\n",
       "</style>\n",
       "<table border=\"1\" class=\"dataframe\">\n",
       "  <thead>\n",
       "    <tr style=\"text-align: right;\">\n",
       "      <th></th>\n",
       "      <th>close_DOGEUSDT</th>\n",
       "      <th>close_AVAXUSDT</th>\n",
       "      <th>close_SOLUSDT</th>\n",
       "      <th>close_SHIBUSDT</th>\n",
       "      <th>close_EURUSDT</th>\n",
       "      <th>close_GBPUSDT</th>\n",
       "      <th>close_ETCETH</th>\n",
       "      <th>close_ETCBTC</th>\n",
       "      <th>close_MKRUSDT</th>\n",
       "      <th>close_MKRBTC</th>\n",
       "      <th>close_IOTAUSDT</th>\n",
       "      <th>close_ADAUSDT</th>\n",
       "      <th>close_XLMUSDT</th>\n",
       "      <th>close_TRXUSDT</th>\n",
       "      <th>close_XMRUSDT</th>\n",
       "      <th>close_EOSUSDT</th>\n",
       "      <th>close_DOGEGBP</th>\n",
       "      <th>close_BTCEUR</th>\n",
       "      <th>close_BTCGBP</th>\n",
       "      <th>close_BTCUSDT</th>\n",
       "    </tr>\n",
       "  </thead>\n",
       "  <tbody>\n",
       "    <tr>\n",
       "      <th>513</th>\n",
       "      <td>0.658972</td>\n",
       "      <td>2.711890</td>\n",
       "      <td>1.992090</td>\n",
       "      <td>1.034568</td>\n",
       "      <td>-0.545294</td>\n",
       "      <td>-0.374677</td>\n",
       "      <td>-0.927297</td>\n",
       "      <td>-0.074611</td>\n",
       "      <td>0.533072</td>\n",
       "      <td>-0.041066</td>\n",
       "      <td>1.167096</td>\n",
       "      <td>0.929188</td>\n",
       "      <td>0.474671</td>\n",
       "      <td>0.855213</td>\n",
       "      <td>0.688077</td>\n",
       "      <td>-0.218173</td>\n",
       "      <td>-0.257058</td>\n",
       "      <td>1.227304</td>\n",
       "      <td>0.946174</td>\n",
       "      <td>1.126792</td>\n",
       "    </tr>\n",
       "    <tr>\n",
       "      <th>514</th>\n",
       "      <td>0.659713</td>\n",
       "      <td>2.716069</td>\n",
       "      <td>1.994153</td>\n",
       "      <td>1.035691</td>\n",
       "      <td>-0.545294</td>\n",
       "      <td>-0.396890</td>\n",
       "      <td>-0.927297</td>\n",
       "      <td>-0.070078</td>\n",
       "      <td>0.535471</td>\n",
       "      <td>-0.041066</td>\n",
       "      <td>1.169185</td>\n",
       "      <td>0.933993</td>\n",
       "      <td>0.477780</td>\n",
       "      <td>0.855213</td>\n",
       "      <td>0.689116</td>\n",
       "      <td>-0.215487</td>\n",
       "      <td>-0.255852</td>\n",
       "      <td>1.228411</td>\n",
       "      <td>0.947360</td>\n",
       "      <td>1.128104</td>\n",
       "    </tr>\n",
       "    <tr>\n",
       "      <th>515</th>\n",
       "      <td>0.658972</td>\n",
       "      <td>2.713498</td>\n",
       "      <td>1.994566</td>\n",
       "      <td>1.035129</td>\n",
       "      <td>-0.545294</td>\n",
       "      <td>-0.396890</td>\n",
       "      <td>-0.927297</td>\n",
       "      <td>-0.070078</td>\n",
       "      <td>0.537870</td>\n",
       "      <td>-0.031666</td>\n",
       "      <td>1.169881</td>\n",
       "      <td>0.933993</td>\n",
       "      <td>0.477780</td>\n",
       "      <td>0.856305</td>\n",
       "      <td>0.688077</td>\n",
       "      <td>-0.217501</td>\n",
       "      <td>-0.255852</td>\n",
       "      <td>1.229234</td>\n",
       "      <td>0.947393</td>\n",
       "      <td>1.128508</td>\n",
       "    </tr>\n",
       "    <tr>\n",
       "      <th>516</th>\n",
       "      <td>0.660454</td>\n",
       "      <td>2.713176</td>\n",
       "      <td>1.994566</td>\n",
       "      <td>1.034006</td>\n",
       "      <td>-0.545294</td>\n",
       "      <td>-0.396890</td>\n",
       "      <td>-0.927297</td>\n",
       "      <td>-0.067811</td>\n",
       "      <td>0.540269</td>\n",
       "      <td>-0.033755</td>\n",
       "      <td>1.168837</td>\n",
       "      <td>0.933993</td>\n",
       "      <td>0.480266</td>\n",
       "      <td>0.857669</td>\n",
       "      <td>0.679763</td>\n",
       "      <td>-0.217501</td>\n",
       "      <td>-0.255852</td>\n",
       "      <td>1.229926</td>\n",
       "      <td>0.947905</td>\n",
       "      <td>1.129309</td>\n",
       "    </tr>\n",
       "    <tr>\n",
       "      <th>517</th>\n",
       "      <td>0.660454</td>\n",
       "      <td>2.714462</td>\n",
       "      <td>1.996354</td>\n",
       "      <td>1.032322</td>\n",
       "      <td>-0.545294</td>\n",
       "      <td>-0.396890</td>\n",
       "      <td>-0.927297</td>\n",
       "      <td>-0.072344</td>\n",
       "      <td>0.540269</td>\n",
       "      <td>-0.031143</td>\n",
       "      <td>1.170578</td>\n",
       "      <td>0.933993</td>\n",
       "      <td>0.481510</td>\n",
       "      <td>0.857669</td>\n",
       "      <td>0.679763</td>\n",
       "      <td>-0.215487</td>\n",
       "      <td>-0.255852</td>\n",
       "      <td>1.230770</td>\n",
       "      <td>0.948672</td>\n",
       "      <td>1.129984</td>\n",
       "    </tr>\n",
       "    <tr>\n",
       "      <th>...</th>\n",
       "      <td>...</td>\n",
       "      <td>...</td>\n",
       "      <td>...</td>\n",
       "      <td>...</td>\n",
       "      <td>...</td>\n",
       "      <td>...</td>\n",
       "      <td>...</td>\n",
       "      <td>...</td>\n",
       "      <td>...</td>\n",
       "      <td>...</td>\n",
       "      <td>...</td>\n",
       "      <td>...</td>\n",
       "      <td>...</td>\n",
       "      <td>...</td>\n",
       "      <td>...</td>\n",
       "      <td>...</td>\n",
       "      <td>...</td>\n",
       "      <td>...</td>\n",
       "      <td>...</td>\n",
       "      <td>...</td>\n",
       "    </tr>\n",
       "    <tr>\n",
       "      <th>980</th>\n",
       "      <td>0.644892</td>\n",
       "      <td>2.696461</td>\n",
       "      <td>1.969120</td>\n",
       "      <td>1.058713</td>\n",
       "      <td>-0.522660</td>\n",
       "      <td>-0.330247</td>\n",
       "      <td>-0.934001</td>\n",
       "      <td>-0.083678</td>\n",
       "      <td>0.517078</td>\n",
       "      <td>-0.053078</td>\n",
       "      <td>1.177890</td>\n",
       "      <td>0.906363</td>\n",
       "      <td>0.503272</td>\n",
       "      <td>0.870226</td>\n",
       "      <td>0.660016</td>\n",
       "      <td>-0.222873</td>\n",
       "      <td>-0.277570</td>\n",
       "      <td>1.218588</td>\n",
       "      <td>0.929876</td>\n",
       "      <td>1.122110</td>\n",
       "    </tr>\n",
       "    <tr>\n",
       "      <th>981</th>\n",
       "      <td>0.644892</td>\n",
       "      <td>2.697104</td>\n",
       "      <td>1.964718</td>\n",
       "      <td>1.059837</td>\n",
       "      <td>-0.545294</td>\n",
       "      <td>-0.330247</td>\n",
       "      <td>-0.934001</td>\n",
       "      <td>-0.083678</td>\n",
       "      <td>0.517878</td>\n",
       "      <td>-0.053078</td>\n",
       "      <td>1.175801</td>\n",
       "      <td>0.906363</td>\n",
       "      <td>0.503272</td>\n",
       "      <td>0.869953</td>\n",
       "      <td>0.658977</td>\n",
       "      <td>-0.223545</td>\n",
       "      <td>-0.275157</td>\n",
       "      <td>1.218701</td>\n",
       "      <td>0.932631</td>\n",
       "      <td>1.121537</td>\n",
       "    </tr>\n",
       "    <tr>\n",
       "      <th>982</th>\n",
       "      <td>0.646374</td>\n",
       "      <td>2.695818</td>\n",
       "      <td>1.966231</td>\n",
       "      <td>1.060398</td>\n",
       "      <td>-0.545294</td>\n",
       "      <td>-0.330247</td>\n",
       "      <td>-0.933163</td>\n",
       "      <td>-0.083678</td>\n",
       "      <td>0.517878</td>\n",
       "      <td>-0.053078</td>\n",
       "      <td>1.177716</td>\n",
       "      <td>0.907565</td>\n",
       "      <td>0.505137</td>\n",
       "      <td>0.870772</td>\n",
       "      <td>0.660016</td>\n",
       "      <td>-0.222873</td>\n",
       "      <td>-0.275157</td>\n",
       "      <td>1.219651</td>\n",
       "      <td>0.932644</td>\n",
       "      <td>1.122849</td>\n",
       "    </tr>\n",
       "    <tr>\n",
       "      <th>983</th>\n",
       "      <td>0.647115</td>\n",
       "      <td>2.698069</td>\n",
       "      <td>1.965131</td>\n",
       "      <td>1.058713</td>\n",
       "      <td>-0.522660</td>\n",
       "      <td>-0.308031</td>\n",
       "      <td>-0.933163</td>\n",
       "      <td>-0.083678</td>\n",
       "      <td>0.517878</td>\n",
       "      <td>-0.055689</td>\n",
       "      <td>1.176671</td>\n",
       "      <td>0.908766</td>\n",
       "      <td>0.505759</td>\n",
       "      <td>0.871591</td>\n",
       "      <td>0.660016</td>\n",
       "      <td>-0.222202</td>\n",
       "      <td>-0.275157</td>\n",
       "      <td>1.220246</td>\n",
       "      <td>0.934519</td>\n",
       "      <td>1.123383</td>\n",
       "    </tr>\n",
       "    <tr>\n",
       "      <th>984</th>\n",
       "      <td>0.647115</td>\n",
       "      <td>2.698390</td>\n",
       "      <td>1.968982</td>\n",
       "      <td>1.058152</td>\n",
       "      <td>-0.522660</td>\n",
       "      <td>-0.308031</td>\n",
       "      <td>-0.932325</td>\n",
       "      <td>-0.081411</td>\n",
       "      <td>0.517878</td>\n",
       "      <td>-0.052556</td>\n",
       "      <td>1.179283</td>\n",
       "      <td>0.909967</td>\n",
       "      <td>0.505759</td>\n",
       "      <td>0.871864</td>\n",
       "      <td>0.660016</td>\n",
       "      <td>-0.222873</td>\n",
       "      <td>-0.272744</td>\n",
       "      <td>1.220739</td>\n",
       "      <td>0.934769</td>\n",
       "      <td>1.124017</td>\n",
       "    </tr>\n",
       "  </tbody>\n",
       "</table>\n",
       "<p>472 rows × 20 columns</p>\n",
       "</div>"
      ],
      "text/plain": [
       "     close_DOGEUSDT  close_AVAXUSDT  close_SOLUSDT  close_SHIBUSDT  \\\n",
       "513        0.658972        2.711890       1.992090        1.034568   \n",
       "514        0.659713        2.716069       1.994153        1.035691   \n",
       "515        0.658972        2.713498       1.994566        1.035129   \n",
       "516        0.660454        2.713176       1.994566        1.034006   \n",
       "517        0.660454        2.714462       1.996354        1.032322   \n",
       "..              ...             ...            ...             ...   \n",
       "980        0.644892        2.696461       1.969120        1.058713   \n",
       "981        0.644892        2.697104       1.964718        1.059837   \n",
       "982        0.646374        2.695818       1.966231        1.060398   \n",
       "983        0.647115        2.698069       1.965131        1.058713   \n",
       "984        0.647115        2.698390       1.968982        1.058152   \n",
       "\n",
       "     close_EURUSDT  close_GBPUSDT  close_ETCETH  close_ETCBTC  close_MKRUSDT  \\\n",
       "513      -0.545294      -0.374677     -0.927297     -0.074611       0.533072   \n",
       "514      -0.545294      -0.396890     -0.927297     -0.070078       0.535471   \n",
       "515      -0.545294      -0.396890     -0.927297     -0.070078       0.537870   \n",
       "516      -0.545294      -0.396890     -0.927297     -0.067811       0.540269   \n",
       "517      -0.545294      -0.396890     -0.927297     -0.072344       0.540269   \n",
       "..             ...            ...           ...           ...            ...   \n",
       "980      -0.522660      -0.330247     -0.934001     -0.083678       0.517078   \n",
       "981      -0.545294      -0.330247     -0.934001     -0.083678       0.517878   \n",
       "982      -0.545294      -0.330247     -0.933163     -0.083678       0.517878   \n",
       "983      -0.522660      -0.308031     -0.933163     -0.083678       0.517878   \n",
       "984      -0.522660      -0.308031     -0.932325     -0.081411       0.517878   \n",
       "\n",
       "     close_MKRBTC  close_IOTAUSDT  close_ADAUSDT  close_XLMUSDT  \\\n",
       "513     -0.041066        1.167096       0.929188       0.474671   \n",
       "514     -0.041066        1.169185       0.933993       0.477780   \n",
       "515     -0.031666        1.169881       0.933993       0.477780   \n",
       "516     -0.033755        1.168837       0.933993       0.480266   \n",
       "517     -0.031143        1.170578       0.933993       0.481510   \n",
       "..            ...             ...            ...            ...   \n",
       "980     -0.053078        1.177890       0.906363       0.503272   \n",
       "981     -0.053078        1.175801       0.906363       0.503272   \n",
       "982     -0.053078        1.177716       0.907565       0.505137   \n",
       "983     -0.055689        1.176671       0.908766       0.505759   \n",
       "984     -0.052556        1.179283       0.909967       0.505759   \n",
       "\n",
       "     close_TRXUSDT  close_XMRUSDT  close_EOSUSDT  close_DOGEGBP  close_BTCEUR  \\\n",
       "513       0.855213       0.688077      -0.218173      -0.257058      1.227304   \n",
       "514       0.855213       0.689116      -0.215487      -0.255852      1.228411   \n",
       "515       0.856305       0.688077      -0.217501      -0.255852      1.229234   \n",
       "516       0.857669       0.679763      -0.217501      -0.255852      1.229926   \n",
       "517       0.857669       0.679763      -0.215487      -0.255852      1.230770   \n",
       "..             ...            ...            ...            ...           ...   \n",
       "980       0.870226       0.660016      -0.222873      -0.277570      1.218588   \n",
       "981       0.869953       0.658977      -0.223545      -0.275157      1.218701   \n",
       "982       0.870772       0.660016      -0.222873      -0.275157      1.219651   \n",
       "983       0.871591       0.660016      -0.222202      -0.275157      1.220246   \n",
       "984       0.871864       0.660016      -0.222873      -0.272744      1.220739   \n",
       "\n",
       "     close_BTCGBP  close_BTCUSDT  \n",
       "513      0.946174       1.126792  \n",
       "514      0.947360       1.128104  \n",
       "515      0.947393       1.128508  \n",
       "516      0.947905       1.129309  \n",
       "517      0.948672       1.129984  \n",
       "..            ...            ...  \n",
       "980      0.929876       1.122110  \n",
       "981      0.932631       1.121537  \n",
       "982      0.932644       1.122849  \n",
       "983      0.934519       1.123383  \n",
       "984      0.934769       1.124017  \n",
       "\n",
       "[472 rows x 20 columns]"
      ]
     },
     "execution_count": 97,
     "metadata": {},
     "output_type": "execute_result"
    }
   ],
   "source": [
    "prev_price"
   ]
  },
  {
   "cell_type": "code",
   "execution_count": 98,
   "metadata": {},
   "outputs": [
    {
     "data": {
      "text/plain": [
       "0.9932531275987447"
      ]
     },
     "execution_count": 98,
     "metadata": {},
     "output_type": "execute_result"
    }
   ],
   "source": [
    "0.654526 / 0.658972"
   ]
  },
  {
   "cell_type": "code",
   "execution_count": 103,
   "metadata": {},
   "outputs": [],
   "source": [
    "idx = extract_windows_vectorized(512, 1000 - 512 - 17, 512)"
   ]
  },
  {
   "cell_type": "code",
   "execution_count": 104,
   "metadata": {},
   "outputs": [
    {
     "data": {
      "text/plain": [
       "array([[  2,   3,   4, ..., 511, 512, 513],\n",
       "       [  3,   4,   5, ..., 512, 513, 514],\n",
       "       [  4,   5,   6, ..., 513, 514, 515],\n",
       "       ...,\n",
       "       [471, 472, 473, ..., 980, 981, 982],\n",
       "       [472, 473, 474, ..., 981, 982, 983],\n",
       "       [473, 474, 475, ..., 982, 983, 984]])"
      ]
     },
     "execution_count": 104,
     "metadata": {},
     "output_type": "execute_result"
    }
   ],
   "source": [
    "idx"
   ]
  },
  {
   "cell_type": "code",
   "execution_count": 106,
   "metadata": {},
   "outputs": [],
   "source": [
    "column_names = [\"close_\" + x for x in cfg[\"models\"][\"resnet\"][\"symbols\"]]\n",
    "prev_price = final_data[column_names].iloc[idx[:, -1]]"
   ]
  },
  {
   "cell_type": "code",
   "execution_count": 107,
   "metadata": {},
   "outputs": [
    {
     "data": {
      "text/html": [
       "<div>\n",
       "<style scoped>\n",
       "    .dataframe tbody tr th:only-of-type {\n",
       "        vertical-align: middle;\n",
       "    }\n",
       "\n",
       "    .dataframe tbody tr th {\n",
       "        vertical-align: top;\n",
       "    }\n",
       "\n",
       "    .dataframe thead th {\n",
       "        text-align: right;\n",
       "    }\n",
       "</style>\n",
       "<table border=\"1\" class=\"dataframe\">\n",
       "  <thead>\n",
       "    <tr style=\"text-align: right;\">\n",
       "      <th></th>\n",
       "      <th>close_DOGEUSDT</th>\n",
       "      <th>close_AVAXUSDT</th>\n",
       "      <th>close_SOLUSDT</th>\n",
       "      <th>close_SHIBUSDT</th>\n",
       "      <th>close_EURUSDT</th>\n",
       "      <th>close_GBPUSDT</th>\n",
       "      <th>close_ETCETH</th>\n",
       "      <th>close_ETCBTC</th>\n",
       "      <th>close_MKRUSDT</th>\n",
       "      <th>close_MKRBTC</th>\n",
       "      <th>close_IOTAUSDT</th>\n",
       "      <th>close_ADAUSDT</th>\n",
       "      <th>close_XLMUSDT</th>\n",
       "      <th>close_TRXUSDT</th>\n",
       "      <th>close_XMRUSDT</th>\n",
       "      <th>close_EOSUSDT</th>\n",
       "      <th>close_DOGEGBP</th>\n",
       "      <th>close_BTCEUR</th>\n",
       "      <th>close_BTCGBP</th>\n",
       "      <th>close_BTCUSDT</th>\n",
       "    </tr>\n",
       "  </thead>\n",
       "  <tbody>\n",
       "    <tr>\n",
       "      <th>513</th>\n",
       "      <td>0.658972</td>\n",
       "      <td>2.711890</td>\n",
       "      <td>1.992090</td>\n",
       "      <td>1.034568</td>\n",
       "      <td>-0.545294</td>\n",
       "      <td>-0.374677</td>\n",
       "      <td>-0.927297</td>\n",
       "      <td>-0.074611</td>\n",
       "      <td>0.533072</td>\n",
       "      <td>-0.041066</td>\n",
       "      <td>1.167096</td>\n",
       "      <td>0.929188</td>\n",
       "      <td>0.474671</td>\n",
       "      <td>0.855213</td>\n",
       "      <td>0.688077</td>\n",
       "      <td>-0.218173</td>\n",
       "      <td>-0.257058</td>\n",
       "      <td>1.227304</td>\n",
       "      <td>0.946174</td>\n",
       "      <td>1.126792</td>\n",
       "    </tr>\n",
       "    <tr>\n",
       "      <th>514</th>\n",
       "      <td>0.659713</td>\n",
       "      <td>2.716069</td>\n",
       "      <td>1.994153</td>\n",
       "      <td>1.035691</td>\n",
       "      <td>-0.545294</td>\n",
       "      <td>-0.396890</td>\n",
       "      <td>-0.927297</td>\n",
       "      <td>-0.070078</td>\n",
       "      <td>0.535471</td>\n",
       "      <td>-0.041066</td>\n",
       "      <td>1.169185</td>\n",
       "      <td>0.933993</td>\n",
       "      <td>0.477780</td>\n",
       "      <td>0.855213</td>\n",
       "      <td>0.689116</td>\n",
       "      <td>-0.215487</td>\n",
       "      <td>-0.255852</td>\n",
       "      <td>1.228411</td>\n",
       "      <td>0.947360</td>\n",
       "      <td>1.128104</td>\n",
       "    </tr>\n",
       "    <tr>\n",
       "      <th>515</th>\n",
       "      <td>0.658972</td>\n",
       "      <td>2.713498</td>\n",
       "      <td>1.994566</td>\n",
       "      <td>1.035129</td>\n",
       "      <td>-0.545294</td>\n",
       "      <td>-0.396890</td>\n",
       "      <td>-0.927297</td>\n",
       "      <td>-0.070078</td>\n",
       "      <td>0.537870</td>\n",
       "      <td>-0.031666</td>\n",
       "      <td>1.169881</td>\n",
       "      <td>0.933993</td>\n",
       "      <td>0.477780</td>\n",
       "      <td>0.856305</td>\n",
       "      <td>0.688077</td>\n",
       "      <td>-0.217501</td>\n",
       "      <td>-0.255852</td>\n",
       "      <td>1.229234</td>\n",
       "      <td>0.947393</td>\n",
       "      <td>1.128508</td>\n",
       "    </tr>\n",
       "    <tr>\n",
       "      <th>516</th>\n",
       "      <td>0.660454</td>\n",
       "      <td>2.713176</td>\n",
       "      <td>1.994566</td>\n",
       "      <td>1.034006</td>\n",
       "      <td>-0.545294</td>\n",
       "      <td>-0.396890</td>\n",
       "      <td>-0.927297</td>\n",
       "      <td>-0.067811</td>\n",
       "      <td>0.540269</td>\n",
       "      <td>-0.033755</td>\n",
       "      <td>1.168837</td>\n",
       "      <td>0.933993</td>\n",
       "      <td>0.480266</td>\n",
       "      <td>0.857669</td>\n",
       "      <td>0.679763</td>\n",
       "      <td>-0.217501</td>\n",
       "      <td>-0.255852</td>\n",
       "      <td>1.229926</td>\n",
       "      <td>0.947905</td>\n",
       "      <td>1.129309</td>\n",
       "    </tr>\n",
       "    <tr>\n",
       "      <th>517</th>\n",
       "      <td>0.660454</td>\n",
       "      <td>2.714462</td>\n",
       "      <td>1.996354</td>\n",
       "      <td>1.032322</td>\n",
       "      <td>-0.545294</td>\n",
       "      <td>-0.396890</td>\n",
       "      <td>-0.927297</td>\n",
       "      <td>-0.072344</td>\n",
       "      <td>0.540269</td>\n",
       "      <td>-0.031143</td>\n",
       "      <td>1.170578</td>\n",
       "      <td>0.933993</td>\n",
       "      <td>0.481510</td>\n",
       "      <td>0.857669</td>\n",
       "      <td>0.679763</td>\n",
       "      <td>-0.215487</td>\n",
       "      <td>-0.255852</td>\n",
       "      <td>1.230770</td>\n",
       "      <td>0.948672</td>\n",
       "      <td>1.129984</td>\n",
       "    </tr>\n",
       "    <tr>\n",
       "      <th>...</th>\n",
       "      <td>...</td>\n",
       "      <td>...</td>\n",
       "      <td>...</td>\n",
       "      <td>...</td>\n",
       "      <td>...</td>\n",
       "      <td>...</td>\n",
       "      <td>...</td>\n",
       "      <td>...</td>\n",
       "      <td>...</td>\n",
       "      <td>...</td>\n",
       "      <td>...</td>\n",
       "      <td>...</td>\n",
       "      <td>...</td>\n",
       "      <td>...</td>\n",
       "      <td>...</td>\n",
       "      <td>...</td>\n",
       "      <td>...</td>\n",
       "      <td>...</td>\n",
       "      <td>...</td>\n",
       "      <td>...</td>\n",
       "    </tr>\n",
       "    <tr>\n",
       "      <th>980</th>\n",
       "      <td>0.644892</td>\n",
       "      <td>2.696461</td>\n",
       "      <td>1.969120</td>\n",
       "      <td>1.058713</td>\n",
       "      <td>-0.522660</td>\n",
       "      <td>-0.330247</td>\n",
       "      <td>-0.934001</td>\n",
       "      <td>-0.083678</td>\n",
       "      <td>0.517078</td>\n",
       "      <td>-0.053078</td>\n",
       "      <td>1.177890</td>\n",
       "      <td>0.906363</td>\n",
       "      <td>0.503272</td>\n",
       "      <td>0.870226</td>\n",
       "      <td>0.660016</td>\n",
       "      <td>-0.222873</td>\n",
       "      <td>-0.277570</td>\n",
       "      <td>1.218588</td>\n",
       "      <td>0.929876</td>\n",
       "      <td>1.122110</td>\n",
       "    </tr>\n",
       "    <tr>\n",
       "      <th>981</th>\n",
       "      <td>0.644892</td>\n",
       "      <td>2.697104</td>\n",
       "      <td>1.964718</td>\n",
       "      <td>1.059837</td>\n",
       "      <td>-0.545294</td>\n",
       "      <td>-0.330247</td>\n",
       "      <td>-0.934001</td>\n",
       "      <td>-0.083678</td>\n",
       "      <td>0.517878</td>\n",
       "      <td>-0.053078</td>\n",
       "      <td>1.175801</td>\n",
       "      <td>0.906363</td>\n",
       "      <td>0.503272</td>\n",
       "      <td>0.869953</td>\n",
       "      <td>0.658977</td>\n",
       "      <td>-0.223545</td>\n",
       "      <td>-0.275157</td>\n",
       "      <td>1.218701</td>\n",
       "      <td>0.932631</td>\n",
       "      <td>1.121537</td>\n",
       "    </tr>\n",
       "    <tr>\n",
       "      <th>982</th>\n",
       "      <td>0.646374</td>\n",
       "      <td>2.695818</td>\n",
       "      <td>1.966231</td>\n",
       "      <td>1.060398</td>\n",
       "      <td>-0.545294</td>\n",
       "      <td>-0.330247</td>\n",
       "      <td>-0.933163</td>\n",
       "      <td>-0.083678</td>\n",
       "      <td>0.517878</td>\n",
       "      <td>-0.053078</td>\n",
       "      <td>1.177716</td>\n",
       "      <td>0.907565</td>\n",
       "      <td>0.505137</td>\n",
       "      <td>0.870772</td>\n",
       "      <td>0.660016</td>\n",
       "      <td>-0.222873</td>\n",
       "      <td>-0.275157</td>\n",
       "      <td>1.219651</td>\n",
       "      <td>0.932644</td>\n",
       "      <td>1.122849</td>\n",
       "    </tr>\n",
       "    <tr>\n",
       "      <th>983</th>\n",
       "      <td>0.647115</td>\n",
       "      <td>2.698069</td>\n",
       "      <td>1.965131</td>\n",
       "      <td>1.058713</td>\n",
       "      <td>-0.522660</td>\n",
       "      <td>-0.308031</td>\n",
       "      <td>-0.933163</td>\n",
       "      <td>-0.083678</td>\n",
       "      <td>0.517878</td>\n",
       "      <td>-0.055689</td>\n",
       "      <td>1.176671</td>\n",
       "      <td>0.908766</td>\n",
       "      <td>0.505759</td>\n",
       "      <td>0.871591</td>\n",
       "      <td>0.660016</td>\n",
       "      <td>-0.222202</td>\n",
       "      <td>-0.275157</td>\n",
       "      <td>1.220246</td>\n",
       "      <td>0.934519</td>\n",
       "      <td>1.123383</td>\n",
       "    </tr>\n",
       "    <tr>\n",
       "      <th>984</th>\n",
       "      <td>0.647115</td>\n",
       "      <td>2.698390</td>\n",
       "      <td>1.968982</td>\n",
       "      <td>1.058152</td>\n",
       "      <td>-0.522660</td>\n",
       "      <td>-0.308031</td>\n",
       "      <td>-0.932325</td>\n",
       "      <td>-0.081411</td>\n",
       "      <td>0.517878</td>\n",
       "      <td>-0.052556</td>\n",
       "      <td>1.179283</td>\n",
       "      <td>0.909967</td>\n",
       "      <td>0.505759</td>\n",
       "      <td>0.871864</td>\n",
       "      <td>0.660016</td>\n",
       "      <td>-0.222873</td>\n",
       "      <td>-0.272744</td>\n",
       "      <td>1.220739</td>\n",
       "      <td>0.934769</td>\n",
       "      <td>1.124017</td>\n",
       "    </tr>\n",
       "  </tbody>\n",
       "</table>\n",
       "<p>472 rows × 20 columns</p>\n",
       "</div>"
      ],
      "text/plain": [
       "     close_DOGEUSDT  close_AVAXUSDT  close_SOLUSDT  close_SHIBUSDT  \\\n",
       "513        0.658972        2.711890       1.992090        1.034568   \n",
       "514        0.659713        2.716069       1.994153        1.035691   \n",
       "515        0.658972        2.713498       1.994566        1.035129   \n",
       "516        0.660454        2.713176       1.994566        1.034006   \n",
       "517        0.660454        2.714462       1.996354        1.032322   \n",
       "..              ...             ...            ...             ...   \n",
       "980        0.644892        2.696461       1.969120        1.058713   \n",
       "981        0.644892        2.697104       1.964718        1.059837   \n",
       "982        0.646374        2.695818       1.966231        1.060398   \n",
       "983        0.647115        2.698069       1.965131        1.058713   \n",
       "984        0.647115        2.698390       1.968982        1.058152   \n",
       "\n",
       "     close_EURUSDT  close_GBPUSDT  close_ETCETH  close_ETCBTC  close_MKRUSDT  \\\n",
       "513      -0.545294      -0.374677     -0.927297     -0.074611       0.533072   \n",
       "514      -0.545294      -0.396890     -0.927297     -0.070078       0.535471   \n",
       "515      -0.545294      -0.396890     -0.927297     -0.070078       0.537870   \n",
       "516      -0.545294      -0.396890     -0.927297     -0.067811       0.540269   \n",
       "517      -0.545294      -0.396890     -0.927297     -0.072344       0.540269   \n",
       "..             ...            ...           ...           ...            ...   \n",
       "980      -0.522660      -0.330247     -0.934001     -0.083678       0.517078   \n",
       "981      -0.545294      -0.330247     -0.934001     -0.083678       0.517878   \n",
       "982      -0.545294      -0.330247     -0.933163     -0.083678       0.517878   \n",
       "983      -0.522660      -0.308031     -0.933163     -0.083678       0.517878   \n",
       "984      -0.522660      -0.308031     -0.932325     -0.081411       0.517878   \n",
       "\n",
       "     close_MKRBTC  close_IOTAUSDT  close_ADAUSDT  close_XLMUSDT  \\\n",
       "513     -0.041066        1.167096       0.929188       0.474671   \n",
       "514     -0.041066        1.169185       0.933993       0.477780   \n",
       "515     -0.031666        1.169881       0.933993       0.477780   \n",
       "516     -0.033755        1.168837       0.933993       0.480266   \n",
       "517     -0.031143        1.170578       0.933993       0.481510   \n",
       "..            ...             ...            ...            ...   \n",
       "980     -0.053078        1.177890       0.906363       0.503272   \n",
       "981     -0.053078        1.175801       0.906363       0.503272   \n",
       "982     -0.053078        1.177716       0.907565       0.505137   \n",
       "983     -0.055689        1.176671       0.908766       0.505759   \n",
       "984     -0.052556        1.179283       0.909967       0.505759   \n",
       "\n",
       "     close_TRXUSDT  close_XMRUSDT  close_EOSUSDT  close_DOGEGBP  close_BTCEUR  \\\n",
       "513       0.855213       0.688077      -0.218173      -0.257058      1.227304   \n",
       "514       0.855213       0.689116      -0.215487      -0.255852      1.228411   \n",
       "515       0.856305       0.688077      -0.217501      -0.255852      1.229234   \n",
       "516       0.857669       0.679763      -0.217501      -0.255852      1.229926   \n",
       "517       0.857669       0.679763      -0.215487      -0.255852      1.230770   \n",
       "..             ...            ...            ...            ...           ...   \n",
       "980       0.870226       0.660016      -0.222873      -0.277570      1.218588   \n",
       "981       0.869953       0.658977      -0.223545      -0.275157      1.218701   \n",
       "982       0.870772       0.660016      -0.222873      -0.275157      1.219651   \n",
       "983       0.871591       0.660016      -0.222202      -0.275157      1.220246   \n",
       "984       0.871864       0.660016      -0.222873      -0.272744      1.220739   \n",
       "\n",
       "     close_BTCGBP  close_BTCUSDT  \n",
       "513      0.946174       1.126792  \n",
       "514      0.947360       1.128104  \n",
       "515      0.947393       1.128508  \n",
       "516      0.947905       1.129309  \n",
       "517      0.948672       1.129984  \n",
       "..            ...            ...  \n",
       "980      0.929876       1.122110  \n",
       "981      0.932631       1.121537  \n",
       "982      0.932644       1.122849  \n",
       "983      0.934519       1.123383  \n",
       "984      0.934769       1.124017  \n",
       "\n",
       "[472 rows x 20 columns]"
      ]
     },
     "execution_count": 107,
     "metadata": {},
     "output_type": "execute_result"
    }
   ],
   "source": [
    "prev_price"
   ]
  },
  {
   "cell_type": "code",
   "execution_count": 108,
   "metadata": {},
   "outputs": [],
   "source": [
    "cur_price = final_data[column_names].iloc[idx[:, -1] + 15]"
   ]
  },
  {
   "cell_type": "code",
   "execution_count": 109,
   "metadata": {},
   "outputs": [
    {
     "data": {
      "text/html": [
       "<div>\n",
       "<style scoped>\n",
       "    .dataframe tbody tr th:only-of-type {\n",
       "        vertical-align: middle;\n",
       "    }\n",
       "\n",
       "    .dataframe tbody tr th {\n",
       "        vertical-align: top;\n",
       "    }\n",
       "\n",
       "    .dataframe thead th {\n",
       "        text-align: right;\n",
       "    }\n",
       "</style>\n",
       "<table border=\"1\" class=\"dataframe\">\n",
       "  <thead>\n",
       "    <tr style=\"text-align: right;\">\n",
       "      <th></th>\n",
       "      <th>close_DOGEUSDT</th>\n",
       "      <th>close_AVAXUSDT</th>\n",
       "      <th>close_SOLUSDT</th>\n",
       "      <th>close_SHIBUSDT</th>\n",
       "      <th>close_EURUSDT</th>\n",
       "      <th>close_GBPUSDT</th>\n",
       "      <th>close_ETCETH</th>\n",
       "      <th>close_ETCBTC</th>\n",
       "      <th>close_MKRUSDT</th>\n",
       "      <th>close_MKRBTC</th>\n",
       "      <th>close_IOTAUSDT</th>\n",
       "      <th>close_ADAUSDT</th>\n",
       "      <th>close_XLMUSDT</th>\n",
       "      <th>close_TRXUSDT</th>\n",
       "      <th>close_XMRUSDT</th>\n",
       "      <th>close_EOSUSDT</th>\n",
       "      <th>close_DOGEGBP</th>\n",
       "      <th>close_BTCEUR</th>\n",
       "      <th>close_BTCGBP</th>\n",
       "      <th>close_BTCUSDT</th>\n",
       "    </tr>\n",
       "  </thead>\n",
       "  <tbody>\n",
       "    <tr>\n",
       "      <th>528</th>\n",
       "      <td>0.654526</td>\n",
       "      <td>2.698069</td>\n",
       "      <td>1.988927</td>\n",
       "      <td>1.034006</td>\n",
       "      <td>-0.567929</td>\n",
       "      <td>-0.396890</td>\n",
       "      <td>-0.925620</td>\n",
       "      <td>-0.067811</td>\n",
       "      <td>0.533871</td>\n",
       "      <td>-0.033232</td>\n",
       "      <td>1.160132</td>\n",
       "      <td>0.924383</td>\n",
       "      <td>0.476536</td>\n",
       "      <td>0.855759</td>\n",
       "      <td>0.677684</td>\n",
       "      <td>-0.222202</td>\n",
       "      <td>-0.259471</td>\n",
       "      <td>1.222070</td>\n",
       "      <td>0.939613</td>\n",
       "      <td>1.121841</td>\n",
       "    </tr>\n",
       "    <tr>\n",
       "      <th>529</th>\n",
       "      <td>0.655267</td>\n",
       "      <td>2.699354</td>\n",
       "      <td>1.990577</td>\n",
       "      <td>1.036814</td>\n",
       "      <td>-0.567929</td>\n",
       "      <td>-0.374677</td>\n",
       "      <td>-0.925620</td>\n",
       "      <td>-0.067811</td>\n",
       "      <td>0.534671</td>\n",
       "      <td>-0.032188</td>\n",
       "      <td>1.161002</td>\n",
       "      <td>0.929188</td>\n",
       "      <td>0.476536</td>\n",
       "      <td>0.856032</td>\n",
       "      <td>0.678724</td>\n",
       "      <td>-0.220187</td>\n",
       "      <td>-0.260678</td>\n",
       "      <td>1.224053</td>\n",
       "      <td>0.941042</td>\n",
       "      <td>1.123159</td>\n",
       "    </tr>\n",
       "    <tr>\n",
       "      <th>530</th>\n",
       "      <td>0.656008</td>\n",
       "      <td>2.704176</td>\n",
       "      <td>1.992228</td>\n",
       "      <td>1.039060</td>\n",
       "      <td>-0.567929</td>\n",
       "      <td>-0.374677</td>\n",
       "      <td>-0.925620</td>\n",
       "      <td>-0.067811</td>\n",
       "      <td>0.536270</td>\n",
       "      <td>-0.032188</td>\n",
       "      <td>1.163440</td>\n",
       "      <td>0.929188</td>\n",
       "      <td>0.477158</td>\n",
       "      <td>0.857123</td>\n",
       "      <td>0.678724</td>\n",
       "      <td>-0.220859</td>\n",
       "      <td>-0.258265</td>\n",
       "      <td>1.225915</td>\n",
       "      <td>0.940673</td>\n",
       "      <td>1.125326</td>\n",
       "    </tr>\n",
       "    <tr>\n",
       "      <th>531</th>\n",
       "      <td>0.656008</td>\n",
       "      <td>2.703212</td>\n",
       "      <td>1.991128</td>\n",
       "      <td>1.035691</td>\n",
       "      <td>-0.567929</td>\n",
       "      <td>-0.352460</td>\n",
       "      <td>-0.926459</td>\n",
       "      <td>-0.070078</td>\n",
       "      <td>0.537070</td>\n",
       "      <td>-0.030621</td>\n",
       "      <td>1.164658</td>\n",
       "      <td>0.929188</td>\n",
       "      <td>0.477158</td>\n",
       "      <td>0.857397</td>\n",
       "      <td>0.692234</td>\n",
       "      <td>-0.221530</td>\n",
       "      <td>-0.258265</td>\n",
       "      <td>1.224341</td>\n",
       "      <td>0.940531</td>\n",
       "      <td>1.124042</td>\n",
       "    </tr>\n",
       "    <tr>\n",
       "      <th>532</th>\n",
       "      <td>0.656749</td>\n",
       "      <td>2.700640</td>\n",
       "      <td>1.990990</td>\n",
       "      <td>1.035129</td>\n",
       "      <td>-0.545294</td>\n",
       "      <td>-0.374677</td>\n",
       "      <td>-0.925620</td>\n",
       "      <td>-0.067811</td>\n",
       "      <td>0.536270</td>\n",
       "      <td>-0.030621</td>\n",
       "      <td>1.162047</td>\n",
       "      <td>0.929188</td>\n",
       "      <td>0.478401</td>\n",
       "      <td>0.857397</td>\n",
       "      <td>0.695352</td>\n",
       "      <td>-0.220859</td>\n",
       "      <td>-0.258265</td>\n",
       "      <td>1.224774</td>\n",
       "      <td>0.942032</td>\n",
       "      <td>1.123704</td>\n",
       "    </tr>\n",
       "    <tr>\n",
       "      <th>...</th>\n",
       "      <td>...</td>\n",
       "      <td>...</td>\n",
       "      <td>...</td>\n",
       "      <td>...</td>\n",
       "      <td>...</td>\n",
       "      <td>...</td>\n",
       "      <td>...</td>\n",
       "      <td>...</td>\n",
       "      <td>...</td>\n",
       "      <td>...</td>\n",
       "      <td>...</td>\n",
       "      <td>...</td>\n",
       "      <td>...</td>\n",
       "      <td>...</td>\n",
       "      <td>...</td>\n",
       "      <td>...</td>\n",
       "      <td>...</td>\n",
       "      <td>...</td>\n",
       "      <td>...</td>\n",
       "      <td>...</td>\n",
       "    </tr>\n",
       "    <tr>\n",
       "      <th>995</th>\n",
       "      <td>0.651562</td>\n",
       "      <td>2.716391</td>\n",
       "      <td>1.976135</td>\n",
       "      <td>1.069944</td>\n",
       "      <td>-0.545294</td>\n",
       "      <td>-0.308031</td>\n",
       "      <td>-0.933163</td>\n",
       "      <td>-0.081411</td>\n",
       "      <td>0.522676</td>\n",
       "      <td>-0.060390</td>\n",
       "      <td>1.184157</td>\n",
       "      <td>0.912370</td>\n",
       "      <td>0.511977</td>\n",
       "      <td>0.876778</td>\n",
       "      <td>0.662095</td>\n",
       "      <td>-0.214144</td>\n",
       "      <td>-0.270331</td>\n",
       "      <td>1.230429</td>\n",
       "      <td>0.944071</td>\n",
       "      <td>1.132874</td>\n",
       "    </tr>\n",
       "    <tr>\n",
       "      <th>996</th>\n",
       "      <td>0.650079</td>\n",
       "      <td>2.720248</td>\n",
       "      <td>1.971321</td>\n",
       "      <td>1.071067</td>\n",
       "      <td>-0.545294</td>\n",
       "      <td>-0.330247</td>\n",
       "      <td>-0.931487</td>\n",
       "      <td>-0.081411</td>\n",
       "      <td>0.521876</td>\n",
       "      <td>-0.060390</td>\n",
       "      <td>1.186595</td>\n",
       "      <td>0.909967</td>\n",
       "      <td>0.509490</td>\n",
       "      <td>0.875140</td>\n",
       "      <td>0.662095</td>\n",
       "      <td>-0.216830</td>\n",
       "      <td>-0.270331</td>\n",
       "      <td>1.229380</td>\n",
       "      <td>0.944071</td>\n",
       "      <td>1.131846</td>\n",
       "    </tr>\n",
       "    <tr>\n",
       "      <th>997</th>\n",
       "      <td>0.650079</td>\n",
       "      <td>2.724105</td>\n",
       "      <td>1.974071</td>\n",
       "      <td>1.071067</td>\n",
       "      <td>-0.545294</td>\n",
       "      <td>-0.308031</td>\n",
       "      <td>-0.931487</td>\n",
       "      <td>-0.081411</td>\n",
       "      <td>0.520277</td>\n",
       "      <td>-0.064046</td>\n",
       "      <td>1.187465</td>\n",
       "      <td>0.909967</td>\n",
       "      <td>0.510733</td>\n",
       "      <td>0.875686</td>\n",
       "      <td>0.663134</td>\n",
       "      <td>-0.215487</td>\n",
       "      <td>-0.270331</td>\n",
       "      <td>1.232048</td>\n",
       "      <td>0.946684</td>\n",
       "      <td>1.133937</td>\n",
       "    </tr>\n",
       "    <tr>\n",
       "      <th>998</th>\n",
       "      <td>0.650821</td>\n",
       "      <td>2.725391</td>\n",
       "      <td>1.976410</td>\n",
       "      <td>1.072190</td>\n",
       "      <td>-0.545294</td>\n",
       "      <td>-0.330247</td>\n",
       "      <td>-0.932325</td>\n",
       "      <td>-0.081411</td>\n",
       "      <td>0.522676</td>\n",
       "      <td>-0.064046</td>\n",
       "      <td>1.187987</td>\n",
       "      <td>0.909967</td>\n",
       "      <td>0.512599</td>\n",
       "      <td>0.875686</td>\n",
       "      <td>0.660016</td>\n",
       "      <td>-0.214144</td>\n",
       "      <td>-0.270331</td>\n",
       "      <td>1.232196</td>\n",
       "      <td>0.945869</td>\n",
       "      <td>1.134475</td>\n",
       "    </tr>\n",
       "    <tr>\n",
       "      <th>999</th>\n",
       "      <td>0.650821</td>\n",
       "      <td>2.723784</td>\n",
       "      <td>1.976547</td>\n",
       "      <td>1.070506</td>\n",
       "      <td>-0.545294</td>\n",
       "      <td>-0.308031</td>\n",
       "      <td>-0.932325</td>\n",
       "      <td>-0.081411</td>\n",
       "      <td>0.522676</td>\n",
       "      <td>-0.064046</td>\n",
       "      <td>1.186246</td>\n",
       "      <td>0.909967</td>\n",
       "      <td>0.510733</td>\n",
       "      <td>0.875140</td>\n",
       "      <td>0.661056</td>\n",
       "      <td>-0.215487</td>\n",
       "      <td>-0.270331</td>\n",
       "      <td>1.231311</td>\n",
       "      <td>0.945631</td>\n",
       "      <td>1.133591</td>\n",
       "    </tr>\n",
       "  </tbody>\n",
       "</table>\n",
       "<p>472 rows × 20 columns</p>\n",
       "</div>"
      ],
      "text/plain": [
       "     close_DOGEUSDT  close_AVAXUSDT  close_SOLUSDT  close_SHIBUSDT  \\\n",
       "528        0.654526        2.698069       1.988927        1.034006   \n",
       "529        0.655267        2.699354       1.990577        1.036814   \n",
       "530        0.656008        2.704176       1.992228        1.039060   \n",
       "531        0.656008        2.703212       1.991128        1.035691   \n",
       "532        0.656749        2.700640       1.990990        1.035129   \n",
       "..              ...             ...            ...             ...   \n",
       "995        0.651562        2.716391       1.976135        1.069944   \n",
       "996        0.650079        2.720248       1.971321        1.071067   \n",
       "997        0.650079        2.724105       1.974071        1.071067   \n",
       "998        0.650821        2.725391       1.976410        1.072190   \n",
       "999        0.650821        2.723784       1.976547        1.070506   \n",
       "\n",
       "     close_EURUSDT  close_GBPUSDT  close_ETCETH  close_ETCBTC  close_MKRUSDT  \\\n",
       "528      -0.567929      -0.396890     -0.925620     -0.067811       0.533871   \n",
       "529      -0.567929      -0.374677     -0.925620     -0.067811       0.534671   \n",
       "530      -0.567929      -0.374677     -0.925620     -0.067811       0.536270   \n",
       "531      -0.567929      -0.352460     -0.926459     -0.070078       0.537070   \n",
       "532      -0.545294      -0.374677     -0.925620     -0.067811       0.536270   \n",
       "..             ...            ...           ...           ...            ...   \n",
       "995      -0.545294      -0.308031     -0.933163     -0.081411       0.522676   \n",
       "996      -0.545294      -0.330247     -0.931487     -0.081411       0.521876   \n",
       "997      -0.545294      -0.308031     -0.931487     -0.081411       0.520277   \n",
       "998      -0.545294      -0.330247     -0.932325     -0.081411       0.522676   \n",
       "999      -0.545294      -0.308031     -0.932325     -0.081411       0.522676   \n",
       "\n",
       "     close_MKRBTC  close_IOTAUSDT  close_ADAUSDT  close_XLMUSDT  \\\n",
       "528     -0.033232        1.160132       0.924383       0.476536   \n",
       "529     -0.032188        1.161002       0.929188       0.476536   \n",
       "530     -0.032188        1.163440       0.929188       0.477158   \n",
       "531     -0.030621        1.164658       0.929188       0.477158   \n",
       "532     -0.030621        1.162047       0.929188       0.478401   \n",
       "..            ...             ...            ...            ...   \n",
       "995     -0.060390        1.184157       0.912370       0.511977   \n",
       "996     -0.060390        1.186595       0.909967       0.509490   \n",
       "997     -0.064046        1.187465       0.909967       0.510733   \n",
       "998     -0.064046        1.187987       0.909967       0.512599   \n",
       "999     -0.064046        1.186246       0.909967       0.510733   \n",
       "\n",
       "     close_TRXUSDT  close_XMRUSDT  close_EOSUSDT  close_DOGEGBP  close_BTCEUR  \\\n",
       "528       0.855759       0.677684      -0.222202      -0.259471      1.222070   \n",
       "529       0.856032       0.678724      -0.220187      -0.260678      1.224053   \n",
       "530       0.857123       0.678724      -0.220859      -0.258265      1.225915   \n",
       "531       0.857397       0.692234      -0.221530      -0.258265      1.224341   \n",
       "532       0.857397       0.695352      -0.220859      -0.258265      1.224774   \n",
       "..             ...            ...            ...            ...           ...   \n",
       "995       0.876778       0.662095      -0.214144      -0.270331      1.230429   \n",
       "996       0.875140       0.662095      -0.216830      -0.270331      1.229380   \n",
       "997       0.875686       0.663134      -0.215487      -0.270331      1.232048   \n",
       "998       0.875686       0.660016      -0.214144      -0.270331      1.232196   \n",
       "999       0.875140       0.661056      -0.215487      -0.270331      1.231311   \n",
       "\n",
       "     close_BTCGBP  close_BTCUSDT  \n",
       "528      0.939613       1.121841  \n",
       "529      0.941042       1.123159  \n",
       "530      0.940673       1.125326  \n",
       "531      0.940531       1.124042  \n",
       "532      0.942032       1.123704  \n",
       "..            ...            ...  \n",
       "995      0.944071       1.132874  \n",
       "996      0.944071       1.131846  \n",
       "997      0.946684       1.133937  \n",
       "998      0.945869       1.134475  \n",
       "999      0.945631       1.133591  \n",
       "\n",
       "[472 rows x 20 columns]"
      ]
     },
     "execution_count": 109,
     "metadata": {},
     "output_type": "execute_result"
    }
   ],
   "source": [
    "cur_price"
   ]
  },
  {
   "cell_type": "code",
   "execution_count": null,
   "metadata": {},
   "outputs": [],
   "source": []
  }
 ],
 "metadata": {
  "interpreter": {
   "hash": "eb9ae06ea5019fe2d48caf7f87a2bc906062ffc3184bee9a985f376f7326dcf4"
  },
  "kernelspec": {
   "display_name": "Python 3.9.1 64-bit ('cryptopredict': conda)",
   "language": "python",
   "name": "python3"
  },
  "language_info": {
   "codemirror_mode": {
    "name": "ipython",
    "version": 3
   },
   "file_extension": ".py",
   "mimetype": "text/x-python",
   "name": "python",
   "nbconvert_exporter": "python",
   "pygments_lexer": "ipython3",
   "version": "3.9.1"
  },
  "orig_nbformat": 4
 },
 "nbformat": 4,
 "nbformat_minor": 2
}
