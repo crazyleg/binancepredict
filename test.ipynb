{
 "cells": [
  {
   "cell_type": "code",
   "execution_count": 1,
   "metadata": {},
   "outputs": [],
   "source": [
    "import pytest\n",
    "import torch\n",
    "import vcr\n",
    "import yaml\n",
    "from api.binance import BinanceAPI\n",
    "from helpers import prepare_data\n",
    "from datastructures import TickerData, TickerStream\n",
    "import requests\n",
    "from ml.models.BSM import BSM4\n",
    "\n",
    "with open(\"config.yaml\", \"r\") as ymlfile:\n",
    "    cfg = yaml.safe_load(ymlfile)\n"
   ]
  },
  {
   "cell_type": "code",
   "execution_count": 2,
   "metadata": {},
   "outputs": [],
   "source": [
    "c = cfg[\"models\"][\"resnet\"][\"symbols\"]"
   ]
  },
  {
   "cell_type": "code",
   "execution_count": 3,
   "metadata": {},
   "outputs": [],
   "source": [
    "def get_ticker_data( symbol: str, interval: str = \"1m\", limit: int = 1000\n",
    "    ):\n",
    "        parameters = {\n",
    "            \"symbol\": symbol,\n",
    "            \"interval\": interval,\n",
    "            \"limit\": limit,\n",
    "            'startTime': 1639718100000\n",
    "        }\n",
    "        print(symbol)\n",
    "        response = requests.get(\"https://api.binance.com\" + \"/api/v3/klines\", params=parameters)\n",
    "        print(response.status_code)\n",
    "\n",
    "        tickers = [TickerData(symbol, interval, *x) for x in response.json()]\n",
    "        stream = TickerStream(tickers, symbol, interval)\n",
    "        last_timestamp = stream.max_timestamp()\n",
    "\n",
    "        return stream"
   ]
  },
  {
   "cell_type": "code",
   "execution_count": 72,
   "metadata": {},
   "outputs": [
    {
     "name": "stdout",
     "output_type": "stream",
     "text": [
      "DOGEUSDT\n",
      "200\n",
      "AVAXUSDT\n",
      "200\n",
      "SOLUSDT\n",
      "200\n",
      "SHIBUSDT\n",
      "200\n",
      "EURUSDT\n",
      "200\n",
      "GBPUSDT\n",
      "200\n",
      "ETCETH\n",
      "200\n",
      "ETCBTC\n",
      "200\n",
      "MKRUSDT\n",
      "200\n",
      "MKRBTC\n",
      "200\n",
      "IOTAUSDT\n",
      "200\n",
      "ADAUSDT\n",
      "200\n",
      "XLMUSDT\n",
      "200\n",
      "TRXUSDT\n",
      "200\n",
      "XMRUSDT\n",
      "200\n",
      "EOSUSDT\n",
      "200\n",
      "DOGEGBP\n",
      "200\n",
      "BTCEUR\n",
      "200\n",
      "BTCGBP\n",
      "200\n",
      "BTCUSDT\n",
      "200\n"
     ]
    }
   ],
   "source": [
    "results = {s: get_ticker_data(symbol = s) for s in c}"
   ]
  },
  {
   "cell_type": "code",
   "execution_count": 73,
   "metadata": {},
   "outputs": [],
   "source": [
    "data = prepare_data(cfg, results)"
   ]
  },
  {
   "cell_type": "code",
   "execution_count": 74,
   "metadata": {},
   "outputs": [
    {
     "data": {
      "text/plain": [
       "(180, 1000)"
      ]
     },
     "execution_count": 74,
     "metadata": {},
     "output_type": "execute_result"
    }
   ],
   "source": [
    "data.shape"
   ]
  },
  {
   "cell_type": "code",
   "execution_count": 75,
   "metadata": {},
   "outputs": [],
   "source": [
    "net = BSM4(n_features=180, n_outputs=20)"
   ]
  },
  {
   "cell_type": "code",
   "execution_count": 76,
   "metadata": {},
   "outputs": [
    {
     "data": {
      "text/plain": [
       "tensor([[ 3.4461e-04, -5.6505e-04, -4.5657e-04, -3.0175e-06, -4.6906e-04,\n",
       "         -5.2762e-05,  1.1928e-04,  5.7779e-05, -2.0853e-04, -1.7189e-04,\n",
       "         -2.7889e-04,  5.4165e-04, -3.5790e-04,  1.4117e-04,  1.7991e-04,\n",
       "         -1.2132e-03, -9.9808e-05, -4.9919e-06,  1.9482e-04,  4.7232e-04]],\n",
       "       grad_fn=<AddmmBackward0>)"
      ]
     },
     "execution_count": 76,
     "metadata": {},
     "output_type": "execute_result"
    }
   ],
   "source": [
    "net.load_state_dict(torch.load('ml/models/BSM4.pth'))\n",
    "net.eval()\n",
    "net(torch.Tensor(data).unsqueeze(0)[:,:,:512])"
   ]
  },
  {
   "cell_type": "code",
   "execution_count": 65,
   "metadata": {},
   "outputs": [
    {
     "data": {
      "text/plain": [
       "tensor([[ 3.4461e-04, -5.6505e-04, -4.5657e-04, -3.0175e-06, -4.6906e-04,\n",
       "         -5.2762e-05,  1.1928e-04,  5.7779e-05, -2.0853e-04, -1.7189e-04,\n",
       "         -2.7889e-04,  5.4165e-04, -3.5790e-04,  1.4117e-04,  1.7991e-04,\n",
       "         -1.2132e-03, -9.9808e-05, -4.9919e-06,  1.9482e-04,  4.7232e-04]],\n",
       "       grad_fn=<AddmmBackward0>)"
      ]
     },
     "execution_count": 65,
     "metadata": {},
     "output_type": "execute_result"
    }
   ],
   "source": []
  },
  {
   "cell_type": "code",
   "execution_count": 39,
   "metadata": {},
   "outputs": [
    {
     "data": {
      "text/plain": [
       "torch.Size([1, 180, 512])"
      ]
     },
     "execution_count": 39,
     "metadata": {},
     "output_type": "execute_result"
    }
   ],
   "source": [
    "torch.Tensor(data).unsqueeze(0)[:,:,:512].shape"
   ]
  },
  {
   "cell_type": "code",
   "execution_count": 11,
   "metadata": {},
   "outputs": [
    {
     "data": {
      "text/plain": [
       "(180, 1000)"
      ]
     },
     "execution_count": 11,
     "metadata": {},
     "output_type": "execute_result"
    }
   ],
   "source": [
    "data.shape"
   ]
  },
  {
   "cell_type": "code",
   "execution_count": 52,
   "metadata": {},
   "outputs": [
    {
     "data": {
      "text/plain": [
       "array([ 0.5417852 ,  0.543265  ,  0.5425251 , ..., -0.27446878,\n",
       "       -0.40040955, -0.4040477 ], dtype=float32)"
      ]
     },
     "execution_count": 52,
     "metadata": {},
     "output_type": "execute_result"
    }
   ],
   "source": [
    "a[(torch.Tensor(data).unsqueeze(0)[:,:,:512].numpy()[0] == a)]"
   ]
  },
  {
   "cell_type": "code",
   "execution_count": 53,
   "metadata": {},
   "outputs": [
    {
     "data": {
      "text/plain": [
       "array([ 0.5417852 ,  0.543265  ,  0.5425251 , ..., -0.27446878,\n",
       "       -0.40040955, -0.4040477 ], dtype=float32)"
      ]
     },
     "execution_count": 53,
     "metadata": {},
     "output_type": "execute_result"
    }
   ],
   "source": [
    "torch.Tensor(data).unsqueeze(0)[:,:,:512].numpy()[0][(torch.Tensor(data).unsqueeze(0)[:,:,:512].numpy()[0] == a)]"
   ]
  },
  {
   "cell_type": "code",
   "execution_count": 23,
   "metadata": {},
   "outputs": [],
   "source": [
    "import numpy as np\n",
    "a = np.fromfile('a.file')"
   ]
  },
  {
   "cell_type": "code",
   "execution_count": 27,
   "metadata": {},
   "outputs": [],
   "source": [
    "import pickle\n",
    "with open('a.file','rb') as file:\n",
    "    a = pickle.load(file)"
   ]
  },
  {
   "cell_type": "code",
   "execution_count": 28,
   "metadata": {},
   "outputs": [
    {
     "data": {
      "text/plain": [
       "(180, 512)"
      ]
     },
     "execution_count": 28,
     "metadata": {},
     "output_type": "execute_result"
    }
   ],
   "source": [
    "a.shape"
   ]
  },
  {
   "cell_type": "code",
   "execution_count": 29,
   "metadata": {},
   "outputs": [
    {
     "data": {
      "text/plain": [
       "(180, 1000)"
      ]
     },
     "execution_count": 29,
     "metadata": {},
     "output_type": "execute_result"
    }
   ],
   "source": [
    "data.shape"
   ]
  },
  {
   "cell_type": "code",
   "execution_count": 36,
   "metadata": {},
   "outputs": [
    {
     "data": {
      "text/plain": [
       "0.9998914930555556"
      ]
     },
     "execution_count": 36,
     "metadata": {},
     "output_type": "execute_result"
    }
   ],
   "source": [
    "(data[:,:512]==a).mean()"
   ]
  },
  {
   "cell_type": "code",
   "execution_count": null,
   "metadata": {},
   "outputs": [],
   "source": []
  }
 ],
 "metadata": {
  "interpreter": {
   "hash": "eb9ae06ea5019fe2d48caf7f87a2bc906062ffc3184bee9a985f376f7326dcf4"
  },
  "kernelspec": {
   "display_name": "Python 3.9.1 64-bit ('cryptopredict': conda)",
   "language": "python",
   "name": "python3"
  },
  "language_info": {
   "codemirror_mode": {
    "name": "ipython",
    "version": 3
   },
   "file_extension": ".py",
   "mimetype": "text/x-python",
   "name": "python",
   "nbconvert_exporter": "python",
   "pygments_lexer": "ipython3",
   "version": "3.9.1"
  },
  "orig_nbformat": 4
 },
 "nbformat": 4,
 "nbformat_minor": 2
}
